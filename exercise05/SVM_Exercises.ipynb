{
 "cells": [
  {
   "cell_type": "markdown",
   "metadata": {},
   "source": [
    "# Exercises\n",
    "\n",
    "In this section we have two exercises:\n",
    "1. Implement the polynomial kernel.\n",
    "2. Implement the multiclass C-SVM."
   ]
  },
  {
   "cell_type": "markdown",
   "metadata": {},
   "source": [
    "## Polynomial kernel\n",
    "\n",
    "You need to extend the ``build_kernel`` function and implement the polynomial kernel if the ``kernel_type`` is set to 'poly'. The equation that needs to be implemented:\n",
    "\\begin{equation}\n",
    "\\Large K=(X^{T}*Y)^{d}.\n",
    "\\end{equation}"
   ]
  },
  {
   "cell_type": "code",
   "outputs": [],
   "source": [
    "import numpy as np"
   ],
   "metadata": {
    "collapsed": false,
    "ExecuteTime": {
     "end_time": "2025-04-15T11:41:30.346200Z",
     "start_time": "2025-04-15T11:41:30.233200Z"
    }
   },
   "execution_count": 2
  },
  {
   "cell_type": "code",
   "outputs": [],
   "source": [
    "def build_kernel(data_set, kernel_type='linear', d=3, test_dataset=None):\n",
    "    kernel = np.dot(data_set, data_set.T)\n",
    "    if kernel_type == 'rbf':\n",
    "        sigma = 1.0\n",
    "        objects_count = len(data_set)\n",
    "        b = np.ones((len(data_set), 1))\n",
    "        kernel -= 0.5 * (np.dot((np.diag(kernel)*np.ones((1, objects_count))).T, b.T)\n",
    "                         + np.dot(b, (np.diag(kernel) * np.ones((1, objects_count))).T.T))\n",
    "        kernel = np.exp(kernel / (2. * sigma ** 2))\n",
    "    elif kernel_type == 'poly':\n",
    "        if test_dataset is None:\n",
    "            kernel = kernel ** d\n",
    "        else:\n",
    "            kernel = np.dot(test_dataset, data_set.T) ** d\n",
    "    return kernel"
   ],
   "metadata": {
    "ExecuteTime": {
     "end_time": "2025-04-15T11:42:51.616163Z",
     "start_time": "2025-04-15T11:42:51.610148Z"
    }
   },
   "execution_count": 10
  },
  {
   "cell_type": "code",
   "outputs": [
    {
     "data": {
      "text/plain": "array([[0.5, 1. ],\n       [0.2, 0.7],\n       [0.1, 0.4]])"
     },
     "execution_count": 13,
     "metadata": {},
     "output_type": "execute_result"
    }
   ],
   "source": [
    "X = np.array([[0.5, 1],\n",
    "              [0.2, 0.7],\n",
    "              [0.1, 0.4]])\n",
    "\n",
    "X"
   ],
   "metadata": {
    "collapsed": false,
    "ExecuteTime": {
     "end_time": "2025-04-15T11:56:38.847853Z",
     "start_time": "2025-04-15T11:56:38.844Z"
    }
   },
   "execution_count": 13
  },
  {
   "cell_type": "code",
   "outputs": [
    {
     "data": {
      "text/plain": "array([[1.25, 0.8 , 0.45],\n       [0.8 , 0.53, 0.3 ],\n       [0.45, 0.3 , 0.17]])"
     },
     "execution_count": 14,
     "metadata": {},
     "output_type": "execute_result"
    }
   ],
   "source": [
    "K = build_kernel(X, kernel_type='poly', d=1)\n",
    "K"
   ],
   "metadata": {
    "collapsed": false,
    "ExecuteTime": {
     "end_time": "2025-04-15T11:56:47.623421Z",
     "start_time": "2025-04-15T11:56:47.619704Z"
    }
   },
   "execution_count": 14
  },
  {
   "cell_type": "code",
   "outputs": [
    {
     "data": {
      "text/plain": "array([[1.953125, 0.512   , 0.091125],\n       [0.512   , 0.148877, 0.027   ],\n       [0.091125, 0.027   , 0.004913]])"
     },
     "execution_count": 22,
     "metadata": {},
     "output_type": "execute_result"
    }
   ],
   "source": [
    "K = build_kernel(X, kernel_type='poly', d=3)\n",
    "K"
   ],
   "metadata": {
    "collapsed": false,
    "ExecuteTime": {
     "end_time": "2025-04-15T11:59:02.988084Z",
     "start_time": "2025-04-15T11:59:02.984348Z"
    }
   },
   "execution_count": 22
  },
  {
   "cell_type": "code",
   "outputs": [
    {
     "data": {
      "text/plain": "array([[4.28750000e-02, 4.91300000e-03, 7.29000000e-04],\n       [4.21875000e-01, 9.11250000e-02, 1.56250000e-02],\n       [1.95312500e+00, 5.12000000e-01, 9.11250000e-02],\n       [1.33100000e+00, 3.35702375e-01, 5.93190000e-02],\n       [3.43000000e-01, 6.40000000e-02, 1.06480000e-02]])"
     },
     "execution_count": 26,
     "metadata": {},
     "output_type": "execute_result"
    }
   ],
   "source": [
    "test_set = np.array([[0.5, 0.1],\n",
    "                     [0.5, 0.5],\n",
    "                     [0.5, 1],\n",
    "                     [0.5, 0.85],\n",
    "                     [0.6, 0.4]])\n",
    "K = build_kernel(X, kernel_type='poly', d=3, test_dataset=test_set)\n",
    "K"
   ],
   "metadata": {
    "collapsed": false,
    "ExecuteTime": {
     "end_time": "2025-04-15T11:59:41.157820Z",
     "start_time": "2025-04-15T11:59:41.153416Z"
    }
   },
   "execution_count": 26
  },
  {
   "cell_type": "markdown",
   "source": [
    "row 2 col 0 -> data_set[0] and test_set[2]\n",
    "\n",
    "those values are the same, therefore kernel value for them is the highest"
   ],
   "metadata": {
    "collapsed": false
   }
  },
  {
   "cell_type": "markdown",
   "metadata": {},
   "source": [
    "## Implement a multiclass C-SVM\n",
    "\n",
    "Use the classification method that we used in notebook 7.3 and IRIS dataset to build a multiclass C-SVM classifier. Most implementation is about a function that will return the proper data set that need to be used for the prediction. You need to implement:\n",
    "- ``choose_set_for_label``\n",
    "- ``get_labels_count``"
   ]
  },
  {
   "cell_type": "code",
   "outputs": [],
   "source": [
    "from sklearn.model_selection import train_test_split\n",
    "from sklearn.datasets import load_iris\n",
    "from sklearn.metrics import accuracy_score\n",
    "from sklearn.preprocessing import StandardScaler\n",
    "import cvxopt"
   ],
   "metadata": {
    "collapsed": false,
    "ExecuteTime": {
     "end_time": "2025-04-15T14:43:15.361549Z",
     "start_time": "2025-04-15T14:43:15.358878Z"
    }
   },
   "execution_count": 229
  },
  {
   "cell_type": "code",
   "outputs": [],
   "source": [
    "# One vs One\n",
    "def choose_set_for_label(data_set, labels, class_a, class_b):\n",
    "    mask = np.logical_or(labels == class_a, labels == class_b)\n",
    "    filtered_data = data_set[mask]\n",
    "    filtered_labels = labels[mask]\n",
    "    binary_labels = np.where(filtered_labels == class_a, 1, -1)\n",
    "    return filtered_data, binary_labels"
   ],
   "metadata": {
    "ExecuteTime": {
     "end_time": "2025-04-15T14:43:16.146837Z",
     "start_time": "2025-04-15T14:43:16.143851Z"
    }
   },
   "execution_count": 230
  },
  {
   "cell_type": "code",
   "execution_count": 231,
   "metadata": {
    "ExecuteTime": {
     "end_time": "2025-04-15T14:43:17.140607Z",
     "start_time": "2025-04-15T14:43:17.137635Z"
    }
   },
   "outputs": [],
   "source": [
    "def get_labels_count(data_set):\n",
    "    return len(data_set)"
   ]
  },
  {
   "cell_type": "markdown",
   "source": [
    "Use the code that we have implemented earlier:"
   ],
   "metadata": {
    "collapsed": false
   }
  },
  {
   "cell_type": "code",
   "execution_count": 232,
   "metadata": {
    "ExecuteTime": {
     "end_time": "2025-04-15T14:43:16.770815Z",
     "start_time": "2025-04-15T14:43:16.764490Z"
    }
   },
   "outputs": [],
   "source": [
    "def train(train_data_set, train_labels, kernel_type='linear', C=10, threshold=1e-5):\n",
    "    kernel = build_kernel(train_data_set, kernel_type=kernel_type)\n",
    "    \n",
    "    objects_count = get_labels_count(train_data_set)\n",
    "    \n",
    "    P = train_labels * train_labels.transpose() * kernel\n",
    "    q = -np.ones((objects_count, 1))\n",
    "    G = np.concatenate((np.eye(objects_count), -np.eye(objects_count)))\n",
    "    h = np.concatenate((C * np.ones((objects_count, 1)), np.zeros((objects_count, 1))))\n",
    "\n",
    "    A = train_labels.reshape(1, objects_count)\n",
    "    A = A.astype(float)\n",
    "    b = 0.0\n",
    "\n",
    "    sol = cvxopt.solvers.qp(cvxopt.matrix(P), cvxopt.matrix(q), cvxopt.matrix(G), cvxopt.matrix(h), cvxopt.matrix(A), cvxopt.matrix(b))\n",
    "\n",
    "    lambdas = np.array(sol['x'])\n",
    "\n",
    "    support_vectors_id = np.where(lambdas > threshold)[0]\n",
    "    vector_number = len(support_vectors_id)\n",
    "    support_vectors = train_data_set[support_vectors_id, :]\n",
    "\n",
    "    lambdas = lambdas[support_vectors_id]\n",
    "    targets = train_labels[support_vectors_id]\n",
    "\n",
    "    b = np.sum(targets)\n",
    "    for n in range(vector_number):\n",
    "        b -= np.sum(lambdas * targets * np.reshape(kernel[support_vectors_id[n], support_vectors_id], (vector_number, 1)))\n",
    "    b /= len(lambdas)\n",
    "\n",
    "    return lambdas, support_vectors, support_vectors_id, b, targets, vector_number\n",
    "\n",
    "def build_kernel(data_set, kernel_type='linear'):\n",
    "    kernel = np.dot(data_set, data_set.T)\n",
    "    if kernel_type == 'rbf':\n",
    "        sigma = 1.0\n",
    "        objects_count = len(data_set)\n",
    "        b = np.ones((len(data_set), 1))\n",
    "        kernel -= 0.5 * (np.dot((np.diag(kernel)*np.ones((1, objects_count))).T, b.T)\n",
    "                         + np.dot(b, (np.diag(kernel) * np.ones((1, objects_count))).T.T))\n",
    "        kernel = np.exp(kernel / (2. * sigma ** 2))\n",
    "    return kernel\n",
    "\n",
    "def classify_rbf(test_data_set, train_data_set, lambdas, targets, b, vector_number, support_vectors, support_vectors_id):\n",
    "    kernel = np.dot(test_data_set, support_vectors.T)\n",
    "    sigma = 1.0\n",
    "    # K = np.dot(test_data_set, support_vectors.T)\n",
    "    # kernel = build_kernel(train_data_set, kernel_type='rbf')\n",
    "    c = (1. / sigma * np.sum(test_data_set ** 2, axis=1) * np.ones((1, np.shape(test_data_set)[0]))).T\n",
    "    c = np.dot(c, np.ones((1, np.shape(kernel)[1])))\n",
    "    #aa = np.dot((np.diag(K)*np.ones((1,len(test_data_set)))).T[support_vectors_id], np.ones((1, np.shape(K)[0]))).T\n",
    "    sv = (np.diag(np.dot(train_data_set, train_data_set.T))*np.ones((1,len(train_data_set)))).T[support_vectors_id]\n",
    "    aa = np.dot(sv,np.ones((1,np.shape(kernel)[0]))).T\n",
    "    kernel = kernel - 0.5 * c - 0.5 * aa\n",
    "    kernel = np.exp(kernel / (2. * sigma ** 2))\n",
    "\n",
    "    y = np.zeros((np.shape(test_data_set)[0], 1))\n",
    "    for j in range(np.shape(test_data_set)[0]):\n",
    "        for i in range(vector_number):\n",
    "            y[j] += lambdas[i] * targets[i] * kernel[j, i]\n",
    "        y[j] += b\n",
    "    return np.sign(y)"
   ]
  },
  {
   "cell_type": "code",
   "outputs": [
    {
     "name": "stdout",
     "output_type": "stream",
     "text": [
      "150\n",
      "[0 1 2]\n"
     ]
    }
   ],
   "source": [
    "iris = load_iris()\n",
    "data_set = iris.data\n",
    "labels = iris.target\n",
    "print(len(data_set))\n",
    "print(np.unique(labels))\n",
    "X_train, X_test, y_train, y_test = train_test_split(data_set, labels, test_size=0.2, random_state=42)"
   ],
   "metadata": {
    "collapsed": false,
    "ExecuteTime": {
     "end_time": "2025-04-15T14:43:40.198573Z",
     "start_time": "2025-04-15T14:43:40.193914Z"
    }
   },
   "execution_count": 241
  },
  {
   "cell_type": "code",
   "outputs": [
    {
     "data": {
      "text/plain": "array([[5.1, 3.5, 1.4, 0.2],\n       [4.9, 3. , 1.4, 0.2],\n       [4.7, 3.2, 1.3, 0.2],\n       [4.6, 3.1, 1.5, 0.2],\n       [5. , 3.6, 1.4, 0.2],\n       [5.4, 3.9, 1.7, 0.4],\n       [4.6, 3.4, 1.4, 0.3],\n       [5. , 3.4, 1.5, 0.2],\n       [4.4, 2.9, 1.4, 0.2],\n       [4.9, 3.1, 1.5, 0.1],\n       [5.4, 3.7, 1.5, 0.2],\n       [4.8, 3.4, 1.6, 0.2],\n       [4.8, 3. , 1.4, 0.1],\n       [4.3, 3. , 1.1, 0.1],\n       [5.8, 4. , 1.2, 0.2],\n       [5.7, 4.4, 1.5, 0.4],\n       [5.4, 3.9, 1.3, 0.4],\n       [5.1, 3.5, 1.4, 0.3],\n       [5.7, 3.8, 1.7, 0.3],\n       [5.1, 3.8, 1.5, 0.3],\n       [5.4, 3.4, 1.7, 0.2],\n       [5.1, 3.7, 1.5, 0.4],\n       [4.6, 3.6, 1. , 0.2],\n       [5.1, 3.3, 1.7, 0.5],\n       [4.8, 3.4, 1.9, 0.2],\n       [5. , 3. , 1.6, 0.2],\n       [5. , 3.4, 1.6, 0.4],\n       [5.2, 3.5, 1.5, 0.2],\n       [5.2, 3.4, 1.4, 0.2],\n       [4.7, 3.2, 1.6, 0.2],\n       [4.8, 3.1, 1.6, 0.2],\n       [5.4, 3.4, 1.5, 0.4],\n       [5.2, 4.1, 1.5, 0.1],\n       [5.5, 4.2, 1.4, 0.2],\n       [4.9, 3.1, 1.5, 0.2],\n       [5. , 3.2, 1.2, 0.2],\n       [5.5, 3.5, 1.3, 0.2],\n       [4.9, 3.6, 1.4, 0.1],\n       [4.4, 3. , 1.3, 0.2],\n       [5.1, 3.4, 1.5, 0.2],\n       [5. , 3.5, 1.3, 0.3],\n       [4.5, 2.3, 1.3, 0.3],\n       [4.4, 3.2, 1.3, 0.2],\n       [5. , 3.5, 1.6, 0.6],\n       [5.1, 3.8, 1.9, 0.4],\n       [4.8, 3. , 1.4, 0.3],\n       [5.1, 3.8, 1.6, 0.2],\n       [4.6, 3.2, 1.4, 0.2],\n       [5.3, 3.7, 1.5, 0.2],\n       [5. , 3.3, 1.4, 0.2],\n       [7. , 3.2, 4.7, 1.4],\n       [6.4, 3.2, 4.5, 1.5],\n       [6.9, 3.1, 4.9, 1.5],\n       [5.5, 2.3, 4. , 1.3],\n       [6.5, 2.8, 4.6, 1.5],\n       [5.7, 2.8, 4.5, 1.3],\n       [6.3, 3.3, 4.7, 1.6],\n       [4.9, 2.4, 3.3, 1. ],\n       [6.6, 2.9, 4.6, 1.3],\n       [5.2, 2.7, 3.9, 1.4],\n       [5. , 2. , 3.5, 1. ],\n       [5.9, 3. , 4.2, 1.5],\n       [6. , 2.2, 4. , 1. ],\n       [6.1, 2.9, 4.7, 1.4],\n       [5.6, 2.9, 3.6, 1.3],\n       [6.7, 3.1, 4.4, 1.4],\n       [5.6, 3. , 4.5, 1.5],\n       [5.8, 2.7, 4.1, 1. ],\n       [6.2, 2.2, 4.5, 1.5],\n       [5.6, 2.5, 3.9, 1.1],\n       [5.9, 3.2, 4.8, 1.8],\n       [6.1, 2.8, 4. , 1.3],\n       [6.3, 2.5, 4.9, 1.5],\n       [6.1, 2.8, 4.7, 1.2],\n       [6.4, 2.9, 4.3, 1.3],\n       [6.6, 3. , 4.4, 1.4],\n       [6.8, 2.8, 4.8, 1.4],\n       [6.7, 3. , 5. , 1.7],\n       [6. , 2.9, 4.5, 1.5],\n       [5.7, 2.6, 3.5, 1. ],\n       [5.5, 2.4, 3.8, 1.1],\n       [5.5, 2.4, 3.7, 1. ],\n       [5.8, 2.7, 3.9, 1.2],\n       [6. , 2.7, 5.1, 1.6],\n       [5.4, 3. , 4.5, 1.5],\n       [6. , 3.4, 4.5, 1.6],\n       [6.7, 3.1, 4.7, 1.5],\n       [6.3, 2.3, 4.4, 1.3],\n       [5.6, 3. , 4.1, 1.3],\n       [5.5, 2.5, 4. , 1.3],\n       [5.5, 2.6, 4.4, 1.2],\n       [6.1, 3. , 4.6, 1.4],\n       [5.8, 2.6, 4. , 1.2],\n       [5. , 2.3, 3.3, 1. ],\n       [5.6, 2.7, 4.2, 1.3],\n       [5.7, 3. , 4.2, 1.2],\n       [5.7, 2.9, 4.2, 1.3],\n       [6.2, 2.9, 4.3, 1.3],\n       [5.1, 2.5, 3. , 1.1],\n       [5.7, 2.8, 4.1, 1.3],\n       [6.3, 3.3, 6. , 2.5],\n       [5.8, 2.7, 5.1, 1.9],\n       [7.1, 3. , 5.9, 2.1],\n       [6.3, 2.9, 5.6, 1.8],\n       [6.5, 3. , 5.8, 2.2],\n       [7.6, 3. , 6.6, 2.1],\n       [4.9, 2.5, 4.5, 1.7],\n       [7.3, 2.9, 6.3, 1.8],\n       [6.7, 2.5, 5.8, 1.8],\n       [7.2, 3.6, 6.1, 2.5],\n       [6.5, 3.2, 5.1, 2. ],\n       [6.4, 2.7, 5.3, 1.9],\n       [6.8, 3. , 5.5, 2.1],\n       [5.7, 2.5, 5. , 2. ],\n       [5.8, 2.8, 5.1, 2.4],\n       [6.4, 3.2, 5.3, 2.3],\n       [6.5, 3. , 5.5, 1.8],\n       [7.7, 3.8, 6.7, 2.2],\n       [7.7, 2.6, 6.9, 2.3],\n       [6. , 2.2, 5. , 1.5],\n       [6.9, 3.2, 5.7, 2.3],\n       [5.6, 2.8, 4.9, 2. ],\n       [7.7, 2.8, 6.7, 2. ],\n       [6.3, 2.7, 4.9, 1.8],\n       [6.7, 3.3, 5.7, 2.1],\n       [7.2, 3.2, 6. , 1.8],\n       [6.2, 2.8, 4.8, 1.8],\n       [6.1, 3. , 4.9, 1.8],\n       [6.4, 2.8, 5.6, 2.1],\n       [7.2, 3. , 5.8, 1.6],\n       [7.4, 2.8, 6.1, 1.9],\n       [7.9, 3.8, 6.4, 2. ],\n       [6.4, 2.8, 5.6, 2.2],\n       [6.3, 2.8, 5.1, 1.5],\n       [6.1, 2.6, 5.6, 1.4],\n       [7.7, 3. , 6.1, 2.3],\n       [6.3, 3.4, 5.6, 2.4],\n       [6.4, 3.1, 5.5, 1.8],\n       [6. , 3. , 4.8, 1.8],\n       [6.9, 3.1, 5.4, 2.1],\n       [6.7, 3.1, 5.6, 2.4],\n       [6.9, 3.1, 5.1, 2.3],\n       [5.8, 2.7, 5.1, 1.9],\n       [6.8, 3.2, 5.9, 2.3],\n       [6.7, 3.3, 5.7, 2.5],\n       [6.7, 3. , 5.2, 2.3],\n       [6.3, 2.5, 5. , 1.9],\n       [6.5, 3. , 5.2, 2. ],\n       [6.2, 3.4, 5.4, 2.3],\n       [5.9, 3. , 5.1, 1.8]])"
     },
     "execution_count": 242,
     "metadata": {},
     "output_type": "execute_result"
    }
   ],
   "source": [
    "data_set"
   ],
   "metadata": {
    "collapsed": false,
    "ExecuteTime": {
     "end_time": "2025-04-15T14:43:48.558506Z",
     "start_time": "2025-04-15T14:43:48.551690Z"
    }
   },
   "execution_count": 242
  },
  {
   "cell_type": "code",
   "execution_count": 243,
   "metadata": {
    "ExecuteTime": {
     "end_time": "2025-04-15T14:43:48.490657Z",
     "start_time": "2025-04-15T14:43:48.478124Z"
    }
   },
   "outputs": [
    {
     "name": "stdout",
     "output_type": "stream",
     "text": [
      "     pcost       dcost       gap    pres   dres\n",
      " 0:  1.1559e+02 -1.4213e+03  3e+03  2e-01  3e-15\n",
      " 1:  6.8399e+01 -1.4534e+02  2e+02  6e-03  3e-15\n",
      " 2:  8.0750e+00 -2.0097e+01  3e+01  2e-15  2e-15\n",
      " 3: -8.8705e-01 -4.6985e+00  4e+00  7e-16  9e-16\n",
      " 4: -1.6927e+00 -2.5407e+00  8e-01  2e-16  3e-16\n",
      " 5: -1.8888e+00 -2.1881e+00  3e-01  2e-16  2e-16\n",
      " 6: -1.9866e+00 -2.0881e+00  1e-01  4e-16  3e-16\n",
      " 7: -2.0157e+00 -2.0418e+00  3e-02  6e-16  3e-16\n",
      " 8: -2.0244e+00 -2.0301e+00  6e-03  2e-16  3e-16\n",
      " 9: -2.0266e+00 -2.0273e+00  7e-04  2e-16  3e-16\n",
      "10: -2.0269e+00 -2.0269e+00  9e-06  6e-16  3e-16\n",
      "11: -2.0269e+00 -2.0269e+00  9e-08  4e-16  3e-16\n",
      "Optimal solution found.\n",
      "     pcost       dcost       gap    pres   dres\n",
      " 0:  1.2966e+02 -1.4503e+03  3e+03  2e-01  3e-15\n",
      " 1:  7.1384e+01 -1.6424e+02  3e+02  8e-03  2e-15\n",
      " 2:  8.2839e+00 -2.2400e+01  3e+01  2e-16  2e-15\n",
      " 3: -1.3102e+00 -5.3941e+00  4e+00  3e-16  8e-16\n",
      " 4: -2.1991e+00 -3.0900e+00  9e-01  2e-16  4e-16\n",
      " 5: -2.3973e+00 -2.6400e+00  2e-01  2e-16  3e-16\n",
      " 6: -2.4685e+00 -2.6307e+00  2e-01  2e-16  2e-16\n",
      " 7: -2.5115e+00 -2.5456e+00  3e-02  3e-16  2e-16\n",
      " 8: -2.5228e+00 -2.5234e+00  6e-04  4e-16  2e-16\n",
      " 9: -2.5231e+00 -2.5231e+00  6e-06  3e-16  3e-16\n",
      "10: -2.5231e+00 -2.5231e+00  6e-08  4e-16  3e-16\n",
      "Optimal solution found.\n",
      "     pcost       dcost       gap    pres   dres\n",
      " 0:  9.2440e+01 -1.4562e+03  3e+03  2e-01  3e-15\n",
      " 1:  6.3896e+01 -1.4701e+02  2e+02  7e-03  3e-15\n",
      " 2:  8.5551e+00 -1.9044e+01  3e+01  1e-15  2e-15\n",
      " 3: -4.8902e-01 -4.2750e+00  4e+00  2e-16  1e-15\n",
      " 4: -1.3263e+00 -2.2233e+00  9e-01  2e-16  5e-16\n",
      " 5: -1.4973e+00 -1.8598e+00  4e-01  2e-16  3e-16\n",
      " 6: -1.5947e+00 -1.7552e+00  2e-01  2e-16  2e-16\n",
      " 7: -1.6546e+00 -1.6890e+00  3e-02  3e-16  2e-16\n",
      " 8: -1.6683e+00 -1.6702e+00  2e-03  4e-16  2e-16\n",
      " 9: -1.6692e+00 -1.6692e+00  4e-05  4e-16  2e-16\n",
      "10: -1.6692e+00 -1.6692e+00  1e-06  3e-16  2e-16\n",
      "Optimal solution found.\n"
     ]
    }
   ],
   "source": [
    "# modify this part \n",
    "scaler = StandardScaler()\n",
    "X_train_scaled = scaler.fit_transform(X_train)\n",
    "X_test_scaled = scaler.transform(X_test)\n",
    "\n",
    "# ONE VS ONE\n",
    "train_01, labels_train_01 = choose_set_for_label(X_train_scaled, y_train, 0, 1)\n",
    "train_02, labels_train_02 = choose_set_for_label(X_train_scaled, y_train, 0, 2)\n",
    "train_12, labels_train_12 = choose_set_for_label(X_train_scaled, y_train, 1, 2)\n",
    "\n",
    "test_01, labels_test_01 = choose_set_for_label(X_test_scaled, y_test, 0, 1)\n",
    "test_02, labels_test_02 = choose_set_for_label(X_test_scaled, y_test, 0, 2)\n",
    "test_12, labels_test_12 = choose_set_for_label(X_test_scaled, y_test, 1, 2)\n",
    "\n",
    "clf0 = train(train_01, labels_train_01, kernel_type='rbf')\n",
    "clf1 = train(train_02, labels_train_02, kernel_type='rbf')\n",
    "clf2 = train(train_12, labels_train_12, kernel_type='rbf')"
   ]
  },
  {
   "cell_type": "code",
   "outputs": [
    {
     "data": {
      "text/plain": "array([[-1.47393679,  1.20365799, -1.56253475, -1.31260282],\n       [-0.13307079,  2.99237573, -1.27600637, -1.04563275],\n       [ 1.08589829,  0.08570939,  0.38585821,  0.28921757],\n       [-1.23014297,  0.75647855, -1.2187007 , -1.31260282],\n       [-1.7177306 ,  0.30929911, -1.39061772, -1.31260282],\n       [ 0.59831066, -1.25582892,  0.72969227,  0.95664273],\n       [ 0.72020757,  0.30929911,  0.44316389,  0.4227026 ],\n       [-0.74255534,  0.98006827, -1.27600637, -1.31260282],\n       [-0.98634915,  1.20365799, -1.33331205, -1.31260282],\n       [-0.74255534,  2.32160658, -1.27600637, -1.44608785],\n       [-0.01117388, -0.80864948,  0.78699794,  0.95664273],\n       [ 0.23261993,  0.75647855,  0.44316389,  0.55618763],\n       [ 1.08589829,  0.08570939,  0.55777524,  0.4227026 ],\n       [-0.49876152,  1.87442714, -1.39061772, -1.04563275],\n       [-0.49876152,  1.4272477 , -1.27600637, -1.31260282],\n       [-0.37686461, -1.47941864, -0.01528151, -0.24472256],\n       [ 0.59831066, -0.58505976,  0.78699794,  0.4227026 ],\n       [ 0.72020757,  0.08570939,  1.01622064,  0.8231577 ],\n       [ 0.96400139, -0.13788033,  0.38585821,  0.28921757],\n       [ 1.69538284,  1.20365799,  1.3600547 ,  1.75755292],\n       [-0.13307079, -0.36147005,  0.27124686,  0.15573254],\n       [ 2.18297047, -0.13788033,  1.64658307,  1.22361279],\n       [-0.2549677 , -0.13788033,  0.44316389,  0.4227026 ],\n       [-0.86445224,  0.98006827, -1.33331205, -1.31260282],\n       [ 2.30486738, -0.58505976,  1.70388875,  1.09012776],\n       [-0.01117388, -0.80864948,  0.21394119, -0.24472256],\n       [-0.74255534,  0.75647855, -1.33331205, -1.31260282],\n       [-0.98634915,  0.98006827, -1.39061772, -1.17911778],\n       [-0.86445224,  1.65083742, -1.04678367, -1.04563275],\n       [-0.98634915, -2.37377751, -0.12989286, -0.24472256],\n       [ 0.59831066, -0.80864948,  0.67238659,  0.8231577 ],\n       [-1.23014297,  0.75647855, -1.04678367, -1.31260282],\n       [-0.98634915, -0.13788033, -1.2187007 , -1.31260282],\n       [-0.86445224,  0.53288883, -1.16139502, -0.91214772],\n       [-0.2549677 , -0.80864948,  0.27124686,  0.15573254],\n       [-0.86445224,  0.75647855, -1.27600637, -1.31260282],\n       [-0.13307079, -0.13788033,  0.27124686,  0.02224751],\n       [ 2.30486738,  1.65083742,  1.70388875,  1.35709783],\n       [-1.47393679,  0.30929911, -1.33331205, -1.31260282],\n       [ 0.47641375, -0.36147005,  0.32855254,  0.15573254],\n       [-0.13307079, -1.25582892,  0.72969227,  1.09012776],\n       [-0.37686461,  2.5451963 , -1.33331205, -1.31260282],\n       [ 0.23261993, -0.13788033,  0.61508092,  0.8231577 ],\n       [-0.01117388, -0.80864948,  0.78699794,  0.95664273],\n       [ 0.23261993, -1.92659808,  0.15663551, -0.24472256],\n       [-0.49876152, -0.13788033,  0.44316389,  0.4227026 ],\n       [ 0.47641375,  0.75647855,  0.95891497,  1.49058286],\n       [-0.37686461, -1.70300836,  0.15663551,  0.15573254],\n       [-0.49876152,  1.87442714, -1.16139502, -1.04563275],\n       [-0.98634915, -1.70300836, -0.24450422, -0.24472256],\n       [ 0.72020757, -0.80864948,  0.90160929,  0.95664273],\n       [-0.98634915,  0.53288883, -1.33331205, -1.31260282],\n       [-0.98634915,  0.30929911, -1.4479234 , -1.31260282],\n       [-0.37686461, -1.47941864,  0.04202416, -0.11123753],\n       [ 1.08589829, -0.13788033,  0.72969227,  0.68967267],\n       [-1.10824606,  0.08570939, -1.27600637, -1.31260282],\n       [-0.01117388, -0.58505976,  0.78699794,  1.62406789],\n       [-0.98634915,  0.75647855, -1.27600637, -1.31260282],\n       [-0.98634915,  0.98006827, -1.2187007 , -0.77866269],\n       [ 0.11072303,  0.30929911,  0.61508092,  0.8231577 ],\n       [-0.86445224, -1.25582892, -0.41642124, -0.11123753],\n       [ 1.32969211,  0.30929911,  1.130832  ,  1.49058286],\n       [ 0.23261993, -0.80864948,  0.78699794,  0.55618763],\n       [ 0.35451684, -1.0322392 ,  1.07352632,  0.28921757],\n       [ 2.30486738, -0.13788033,  1.3600547 ,  1.49058286],\n       [-0.37686461, -1.25582892,  0.15663551,  0.15573254],\n       [-1.7177306 , -0.36147005, -1.33331205, -1.31260282],\n       [-1.83962751, -0.13788033, -1.50522907, -1.44608785],\n       [ 0.23261993, -1.92659808,  0.72969227,  0.4227026 ],\n       [ 1.69538284,  0.30929911,  1.30274902,  0.8231577 ],\n       [-1.47393679,  0.08570939, -1.27600637, -1.31260282],\n       [-0.86445224,  0.98006827, -1.33331205, -1.17911778],\n       [-1.7177306 , -0.13788033, -1.39061772, -1.31260282],\n       [ 0.59831066, -1.25582892,  0.67238659,  0.4227026 ],\n       [ 0.59831066,  0.75647855,  1.07352632,  1.62406789],\n       [-1.47393679,  0.75647855, -1.33331205, -1.17911778],\n       [ 1.2077952 , -0.13788033,  1.01622064,  1.22361279],\n       [ 0.59831066,  0.53288883,  1.30274902,  1.75755292],\n       [-1.35203988,  0.30929911, -1.39061772, -1.31260282],\n       [ 0.35451684, -0.36147005,  0.55777524,  0.28921757],\n       [ 0.84210448, -0.58505976,  0.50046957,  0.4227026 ],\n       [ 0.47641375, -0.58505976,  0.61508092,  0.8231577 ],\n       [ 1.45158902,  0.30929911,  0.55777524,  0.28921757],\n       [ 0.72020757,  0.30929911,  0.90160929,  1.49058286],\n       [-0.86445224,  1.65083742, -1.2187007 , -1.31260282],\n       [ 1.32969211,  0.08570939,  0.95891497,  1.22361279],\n       [ 0.11072303, -0.13788033,  0.27124686,  0.4227026 ],\n       [ 0.84210448, -0.13788033,  0.84430362,  1.09012776],\n       [-0.13307079, -1.0322392 , -0.12989286, -0.24472256],\n       [-0.74255534, -0.80864948,  0.09932984,  0.28921757],\n       [ 0.35451684, -0.13788033,  0.50046957,  0.28921757],\n       [-1.5958337 , -1.70300836, -1.39061772, -1.17911778],\n       [ 0.96400139, -0.36147005,  0.50046957,  0.15573254],\n       [-0.37686461, -1.0322392 ,  0.38585821,  0.02224751],\n       [-0.62065843,  1.4272477 , -1.27600637, -1.31260282],\n       [-0.2549677 , -0.13788033,  0.21394119,  0.15573254],\n       [ 1.81727975, -0.36147005,  1.47466605,  0.8231577 ],\n       [ 1.08589829,  0.53288883,  1.130832  ,  1.22361279],\n       [-0.86445224,  1.4272477 , -1.27600637, -1.04563275],\n       [-1.10824606, -1.47941864, -0.24450422, -0.24472256],\n       [ 1.08589829,  0.53288883,  1.130832  ,  1.75755292],\n       [ 1.69538284, -0.13788033,  1.18813767,  0.55618763],\n       [-1.10824606,  1.20365799, -1.33331205, -1.44608785],\n       [ 1.08589829,  0.08570939,  1.07352632,  1.62406789],\n       [-1.10824606, -0.13788033, -1.33331205, -1.31260282],\n       [ 1.32969211,  0.08570939,  0.67238659,  0.4227026 ],\n       [ 1.93917666, -0.58505976,  1.3600547 ,  0.95664273],\n       [ 0.59831066, -0.36147005,  1.07352632,  0.8231577 ],\n       [-0.13307079, -0.58505976,  0.21394119,  0.15573254],\n       [ 0.84210448, -0.13788033,  1.01622064,  0.8231577 ],\n       [ 0.59831066, -1.70300836,  0.38585821,  0.15573254],\n       [ 0.72020757, -0.36147005,  0.32855254,  0.15573254],\n       [-0.2549677 , -0.58505976,  0.67238659,  1.09012776],\n       [ 0.11072303, -0.13788033,  0.78699794,  0.8231577 ],\n       [-0.49876152,  0.75647855, -1.16139502, -1.31260282],\n       [ 0.35451684, -0.58505976,  0.15663551,  0.15573254],\n       [-1.10824606, -1.25582892,  0.44316389,  0.68967267],\n       [-0.01117388,  2.09801686, -1.4479234 , -1.31260282],\n       [-0.01117388, -1.0322392 ,  0.15663551,  0.02224751],\n       [ 1.57348593, -0.13788033,  1.24544335,  1.22361279]])"
     },
     "execution_count": 244,
     "metadata": {},
     "output_type": "execute_result"
    }
   ],
   "source": [
    "X_train_scaled"
   ],
   "metadata": {
    "collapsed": false,
    "ExecuteTime": {
     "end_time": "2025-04-15T14:43:50.992269Z",
     "start_time": "2025-04-15T14:43:50.987543Z"
    }
   },
   "execution_count": 244
  },
  {
   "cell_type": "code",
   "outputs": [
    {
     "name": "stdout",
     "output_type": "stream",
     "text": [
      "Accuracy for each classifier\n",
      "1.0\n",
      "0.8571428571428571\n",
      "0.55\n"
     ]
    }
   ],
   "source": [
    "test_datasets = [test_01, test_02, test_12]\n",
    "train_datasets = [train_01, train_02, train_12]\n",
    "test_labels = [labels_test_01, labels_test_02, labels_test_12]\n",
    "print(\"Accuracy for each classifier\")\n",
    "for i, clf in enumerate([clf0, clf1, clf2]):\n",
    "    lambdas, support_vectors, support_vectors_id, b, targets, vector_number = clf\n",
    "    predicted = list(classify_rbf(test_datasets[i], train_datasets[i], lambdas, targets, b, vector_number, support_vectors, support_vectors_id).astype(int))\n",
    "    print(accuracy_score(predicted, test_labels[i]))"
   ],
   "metadata": {
    "collapsed": false,
    "ExecuteTime": {
     "end_time": "2025-04-15T14:43:52.251465Z",
     "start_time": "2025-04-15T14:43:52.244077Z"
    }
   },
   "execution_count": 245
  },
  {
   "cell_type": "code",
   "outputs": [
    {
     "name": "stdout",
     "output_type": "stream",
     "text": [
      "[-1  1 -1 -1  1 -1 -1 -1  1  1  1  1 -1 -1 -1  1  1  1  1]\n",
      "[ 1 -1  1 -1 -1  1  1  1  1 -1 -1  1 -1  1 -1 -1 -1 -1 -1  1  1]\n",
      "[ 1 -1  1  1  1 -1  1  1 -1  1 -1  1  1 -1 -1 -1 -1 -1 -1 -1]\n"
     ]
    }
   ],
   "source": [
    "print(labels_test_01)\n",
    "print(labels_test_02)\n",
    "print(labels_test_12)"
   ],
   "metadata": {
    "collapsed": false,
    "ExecuteTime": {
     "end_time": "2025-04-15T14:43:53.760684Z",
     "start_time": "2025-04-15T14:43:53.757678Z"
    }
   },
   "execution_count": 246
  },
  {
   "cell_type": "code",
   "outputs": [
    {
     "name": "stdout",
     "output_type": "stream",
     "text": [
      "0.7666666666666667\n"
     ]
    }
   ],
   "source": [
    "# Predictions\n",
    "from sklearn.metrics import accuracy_score\n",
    "from collections import Counter\n",
    "\n",
    "predictions = []\n",
    "for i, clf in enumerate([clf0, clf1, clf2]):\n",
    "    lambdas, support_vectors, support_vectors_id, b, targets, vector_number = clf\n",
    "    predicted = list(classify_rbf(X_test_scaled, X_train_scaled, lambdas, targets, b, vector_number, support_vectors, support_vectors_id).astype(int))\n",
    "    predictions.append(predicted)\n",
    "\n",
    "# voting\n",
    "final_predictions = []\n",
    "for i in range(len(predictions[0])):\n",
    "    votes = []\n",
    "    for j in range(len(predictions)):\n",
    "        if j == 0:\n",
    "            if predictions[j][i] == 1:\n",
    "                votes.append(0)\n",
    "            else:\n",
    "                votes.append(1)\n",
    "        elif j == 1:\n",
    "            if predictions[j][i] == 1:\n",
    "                votes.append(0)\n",
    "            else:\n",
    "                votes.append(2)\n",
    "        else:\n",
    "            if predictions[j][i] == 1:\n",
    "                votes.append(1)\n",
    "            else:\n",
    "                votes.append(2)\n",
    "    final_class = Counter(votes).most_common(1)[0][0]\n",
    "    final_predictions.append(final_class)\n",
    "\n",
    "print(accuracy_score(y_test, final_predictions))"
   ],
   "metadata": {
    "collapsed": false,
    "ExecuteTime": {
     "end_time": "2025-04-15T14:43:54.724572Z",
     "start_time": "2025-04-15T14:43:54.712516Z"
    }
   },
   "execution_count": 247
  },
  {
   "cell_type": "code",
   "outputs": [
    {
     "name": "stdout",
     "output_type": "stream",
     "text": [
      "[-1  1 -1 -1 -1  1 -1 -1 -1 -1 -1  1  1  1  1 -1 -1 -1 -1 -1  1 -1  1 -1\n",
      " -1 -1 -1 -1  1  1]\n",
      "[-1  1 -1 -1 -1  1  1 -1 -1 -1 -1  1  1  1  1 -1 -1  1 -1 -1  1 -1  1 -1\n",
      " -1 -1 -1 -1  1  1]\n",
      "[-1 -1 -1 -1 -1 -1 -1 -1 -1 -1 -1 -1 -1 -1 -1 -1 -1 -1 -1 -1 -1 -1 -1 -1\n",
      " -1 -1 -1 -1 -1 -1]\n"
     ]
    }
   ],
   "source": [
    "for i in range(3):\n",
    "    print(np.ravel(predictions[i]))"
   ],
   "metadata": {
    "collapsed": false,
    "ExecuteTime": {
     "end_time": "2025-04-15T14:43:56.426745Z",
     "start_time": "2025-04-15T14:43:56.423618Z"
    }
   },
   "execution_count": 248
  }
 ],
 "metadata": {
  "kernelspec": {
   "display_name": "Python 3",
   "language": "python",
   "name": "python3"
  },
  "language_info": {
   "codemirror_mode": {
    "name": "ipython",
    "version": 3
   },
   "file_extension": ".py",
   "mimetype": "text/x-python",
   "name": "python",
   "nbconvert_exporter": "python",
   "pygments_lexer": "ipython3",
   "version": "3.7.3"
  }
 },
 "nbformat": 4,
 "nbformat_minor": 4
}
