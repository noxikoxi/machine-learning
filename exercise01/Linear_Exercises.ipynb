{
 "cells": [
  {
   "cell_type": "markdown",
   "metadata": {},
   "source": [
    "# Exercises\n",
    "\n",
    "There are three exercises in this notebook:\n",
    "\n",
    "1. Use the cross-validation method to test the linear regression with different $\\alpha$ values, at least three.\n",
    "2. Implement a SGD method that will train the Lasso regression for 10 epochs.\n",
    "3. Extend the Fisher's classifier to work with two features. Use the class as the $y$."
   ]
  },
  {
   "cell_type": "markdown",
   "metadata": {},
   "source": [
    "## 1. Cross-validation linear regression\n",
    "\n",
    "You need to change the variable ``alpha`` to be a list of alphas. Next do a loop and finally compare the results."
   ]
  },
  {
   "cell_type": "code",
   "execution_count": 3,
   "metadata": {
    "ExecuteTime": {
     "end_time": "2025-03-19T15:29:55.738358Z",
     "start_time": "2025-03-19T15:29:50.809021Z"
    }
   },
   "outputs": [],
   "source": [
    "import numpy as np\n",
    "from sklearn.linear_model import Ridge, Lasso\n",
    "from sklearn.model_selection import cross_val_score"
   ]
  },
  {
   "cell_type": "code",
   "outputs": [],
   "source": [
    "# unecessary, but same results as scikit-learn sklearn.model_selection.cross_val_score\n",
    "def divide_n_folds(x, y, n_folds):\n",
    "    n_samples = x.shape[0]\n",
    "    \n",
    "    indices = np.arange(n_samples)\n",
    "    \n",
    "    fold_sizes = np.full(n_folds, n_samples // n_folds, dtype=int)\n",
    "    fold_sizes[:n_samples % n_folds] += 1 # if n_samples is indivisible  by n_folds\n",
    "    \n",
    "    folds = [] # indices for each fold\n",
    "    start = 0\n",
    "    for fold_size in fold_sizes:\n",
    "        stop = start + fold_size\n",
    "        folds.append(indices[start:stop])\n",
    "        start = stop\n",
    "        \n",
    "    new_x = []\n",
    "    new_y = []\n",
    "        \n",
    "    for i, test_idx in enumerate(folds):\n",
    "        train_idx = np.concatenate([fold for fold_idx, fold in enumerate(folds) if fold_idx != i])\n",
    "        new_x.append((x[train_idx], x[test_idx]))\n",
    "        new_y.append((y[train_idx], y[test_idx]))\n",
    "        \n",
    "    return new_x, new_y"
   ],
   "metadata": {
    "collapsed": false,
    "ExecuteTime": {
     "end_time": "2025-03-19T15:25:46.461519Z",
     "start_time": "2025-03-19T15:25:46.451182Z"
    }
   },
   "execution_count": 1
  },
  {
   "cell_type": "code",
   "outputs": [
    {
     "name": "stdout",
     "output_type": "stream",
     "text": [
      "Alpha\tMy_Ridge_Coefs\tSklearn_Ridge_Coefs\n",
      "0.0\t(1.618142468878985,-180.92401771633934)\t(1.618142468878913,-180.92401771632694)\n",
      "0.1\t(1.1697875748697704,-101.72397080681492)\t(1.1697875748697717,-101.72397080681392)\n",
      "0.5\t(0.8032416872615298,-36.975220157163406)\t(0.8032416872615283,-36.97522015716356)\n",
      "1\t(0.7104861640228338,-20.590447055498938)\t(0.710486164022832,-20.590447055498714)\n",
      "10\t(0.6068810679043629,-2.291062615390463)\t(0.6068810679043627,-2.29106261539043)\n",
      "\n",
      "MSE Calculations\n",
      "Alpha: 0.0, MSE: 372.33129215179673\n",
      "Alpha: 0.1, MSE: 426.04507708317414\n",
      "Alpha: 0.5, MSE: 549.7710602647388\n",
      "Alpha: 1, MSE: 592.4636104956176\n",
      "Alpha: 10, MSE: 645.5799592900984\n"
     ]
    }
   ],
   "source": [
    "x = np.array([188, 181, 197, 168, 167, 187, 178, 194, 140, 176, 168, 192, 173, 142, 176]).reshape(-1, 1) # [15, 1]\n",
    "y = np.array([141, 106, 149, 59, 79, 136, 65, 136, 52, 87, 115, 140, 82, 69, 121]).reshape(-1, 1) # [15, 1]\n",
    "\n",
    "x = np.append(x, np.ones((15,1)), axis = 1) # [15, 2], added bias column\n",
    "I = np.identity(2) # [2, 2] -> [[1, 0], [0, 1]]\n",
    "alphas = [0.0, 0.1, 0.5, 1, 10]\n",
    "\n",
    "results = []\n",
    "for alpha in alphas:\n",
    "    w = np.dot(np.linalg.inv(np.dot(x.T, x) + alpha * I), np.dot(x.T,y))\n",
    "    w=w.ravel() # it's like flattening\n",
    "    results.append(w)\n",
    "\n",
    "print(f'Alpha\\tMy_Ridge_Coefs\\tSklearn_Ridge_Coefs')\n",
    "for i, alpha in enumerate(alphas):\n",
    "    ridge = Ridge(alpha=alpha, fit_intercept=False)\n",
    "    ridge.fit(x, y)\n",
    "    print(f'{alpha}\\t({results[i][0]},{results[i][1]})\\t({ridge.coef_[0]},{ridge.coef_[1]})')\n",
    "    \n",
    "print(\"\\nMSE Calculations\")\n",
    "for i, alpha in enumerate(alphas):\n",
    "    predictions = np.dot(x, results[i])\n",
    "    print(f'Alpha: {alpha}, MSE: {np.sum(np.pow(y.ravel() - predictions, 2))/ predictions.shape[0]}')"
   ],
   "metadata": {
    "collapsed": false,
    "ExecuteTime": {
     "end_time": "2025-03-19T15:41:15.382118Z",
     "start_time": "2025-03-19T15:41:15.351147Z"
    }
   },
   "execution_count": 24
  },
  {
   "cell_type": "markdown",
   "source": [
    "## 2. Implement based on the Ridge regression example, the Lasso regression.\n",
    "\n",
    "Please implement the SGD method and compare the results with the sklearn Lasso regression results. "
   ],
   "metadata": {
    "collapsed": false
   }
  },
  {
   "cell_type": "code",
   "execution_count": 26,
   "metadata": {
    "ExecuteTime": {
     "end_time": "2025-03-19T15:42:09.210494Z",
     "start_time": "2025-03-19T15:42:09.199883Z"
    }
   },
   "outputs": [],
   "source": [
    "def sgd(x, y, n_steps, learning_rate, alpha):\n",
    "    n, n_features = x.shape\n",
    "    w =np.zeros((n_features, 1))\n",
    "    for _ in range(n_steps):\n",
    "        predictions = np.dot(x, w) # [n, n_features] x [n_features, 1] = [n, 1]\n",
    "        # standard gradients for linear regression\n",
    "        gradient = (-2/ n) * np.dot(x.T, (y - predictions)) # [n_features, n] x [n, 1] =  [n_features, 1]\n",
    "        \n",
    "        # L1 regularization gradients\n",
    "        subgradient = alpha * np.sign(w)\n",
    "        \n",
    "        w -= learning_rate * (gradient + subgradient)\n",
    "\n",
    "    return w[0][0], w[1][0]    "
   ]
  },
  {
   "cell_type": "code",
   "outputs": [
    {
     "name": "stdout",
     "output_type": "stream",
     "text": [
      "w = (102.40593536511999, 26.28450510066113), sklearn Lasso -> (102.36666666666665, 26.237253654669942)\n"
     ]
    }
   ],
   "source": [
    "x = np.array([188, 181, 197, 168, 167, 187, 178, 194, 140, 176, 168, 192, 173, 142, 176])\n",
    "y = np.array([141, 106, 149, 59, 79, 136, 65, 136, 52, 87, 115, 140, 82, 69, 121]).reshape(-1, 1)\n",
    "\n",
    "x = np.c_[np.ones((15,1)), x] # [15, 2] -> bias column 0, weight column 1\n",
    "alpha = 0.1\n",
    "\n",
    "# x needs to be rescaled/standardized before sgd\n",
    "x_mean = np.mean(x[:, 1:], axis=0)\n",
    "x_std = np.std(x[:, 1:], axis=0)\n",
    "x[:, 1:] = (x[:, 1:] - x_mean) / x_std\n",
    "\n",
    "w = sgd(x, y, 10, 0.3, alpha)\n",
    "\n",
    "lass_regression = Lasso(alpha=alpha, fit_intercept=False)\n",
    "lass_regression.fit(X=x, y=y)\n",
    "\n",
    "print(f'w = ({w[0]}, {w[1]}), sklearn Lasso -> ({lass_regression.coef_[0]}, {lass_regression.coef_[1]})')"
   ],
   "metadata": {
    "collapsed": false,
    "ExecuteTime": {
     "end_time": "2025-03-19T15:42:10.133689Z",
     "start_time": "2025-03-19T15:42:10.115410Z"
    }
   },
   "execution_count": 27
  },
  {
   "cell_type": "code",
   "outputs": [
    {
     "name": "stdout",
     "output_type": "stream",
     "text": [
      "Final predictions: \n",
      "Y_True \t\t Pred\n",
      "123.1843 \t 141\n",
      "111.8800 \t 106\n",
      "137.7185 \t 149\n",
      "90.8863 \t 59\n",
      "89.2714 \t 79\n",
      "121.5694 \t 136\n",
      "107.0353 \t 65\n",
      "132.8737 \t 136\n",
      "45.6691 \t 52\n",
      "103.8055 \t 87\n",
      "90.8863 \t 115\n",
      "129.6439 \t 140\n",
      "98.9608 \t 82\n",
      "48.8989 \t 69\n",
      "103.8055 \t 121\n",
      "\n",
      "MSE: 372.33776285273433\n"
     ]
    }
   ],
   "source": [
    "print(\"Final predictions: \\nY_True \\t\\t Pred\")\n",
    "pred = np.dot(x, w)\n",
    "y_flattened = y.ravel()\n",
    "for i in range(len(pred)):\n",
    "    print(f'{pred[i]:0.4f} \\t {y_flattened[i]}')\n",
    "\n",
    "print(f'\\nMSE: {np.mean((y_flattened - pred)** 2)}')"
   ],
   "metadata": {
    "collapsed": false,
    "ExecuteTime": {
     "end_time": "2025-03-19T15:42:18.355251Z",
     "start_time": "2025-03-19T15:42:18.347666Z"
    }
   },
   "execution_count": 29
  },
  {
   "cell_type": "markdown",
   "source": [
    "## 3. Extend the Fisher's classifier\n",
    "\n",
    "Please extend the targets of the ``iris_data`` variable and use it as the $y$."
   ],
   "metadata": {
    "collapsed": false
   }
  },
  {
   "cell_type": "code",
   "outputs": [
    {
     "name": "stdout",
     "output_type": "stream",
     "text": [
      "   sepal length (cm)  sepal width (cm)  petal length (cm)  petal width (cm)  \\\n",
      "0                5.1               3.5                1.4               0.2   \n",
      "1                4.9               3.0                1.4               0.2   \n",
      "2                4.7               3.2                1.3               0.2   \n",
      "3                4.6               3.1                1.5               0.2   \n",
      "4                5.0               3.6                1.4               0.2   \n",
      "\n",
      "   target  \n",
      "0       0  \n",
      "1       0  \n",
      "2       0  \n",
      "3       0  \n",
      "4       0  \n",
      "\n",
      "\n",
      "[[0.92478522 1.05141831]\n",
      " [0.88521238 1.03558917]\n",
      " [0.90104152 1.01976004]\n",
      " [0.89312695 1.01184547]\n",
      " [0.93269979 1.04350374]\n",
      " [0.95644349 1.07516201]\n",
      " [0.91687065 1.01184547]\n",
      " [0.91687065 1.04350374]\n",
      " [0.87729781 0.99601633]\n",
      " [0.89312695 1.03558917]\n",
      " [0.94061436 1.07516201]\n",
      " [0.91687065 1.02767461]\n",
      " [0.88521238 1.02767461]\n",
      " [0.88521238 0.98810177]\n",
      " [0.96435806 1.10682029]\n",
      " [0.99601633 1.09890572]\n",
      " [0.95644349 1.07516201]\n",
      " [0.92478522 1.05141831]\n",
      " [0.94852893 1.09890572]\n",
      " [0.94852893 1.05141831]\n",
      " [0.91687065 1.07516201]\n",
      " [0.94061436 1.05141831]\n",
      " [0.93269979 1.01184547]\n",
      " [0.90895609 1.05141831]\n",
      " [0.91687065 1.02767461]\n",
      " [0.88521238 1.04350374]\n",
      " [0.91687065 1.04350374]\n",
      " [0.92478522 1.05933288]\n",
      " [0.91687065 1.05933288]\n",
      " [0.90104152 1.01976004]\n",
      " [0.89312695 1.02767461]\n",
      " [0.91687065 1.07516201]\n",
      " [0.97227263 1.05933288]\n",
      " [0.9801872  1.08307658]\n",
      " [0.89312695 1.03558917]\n",
      " [0.90104152 1.04350374]\n",
      " [0.92478522 1.08307658]\n",
      " [0.93269979 1.03558917]\n",
      " [0.88521238 0.99601633]\n",
      " [0.91687065 1.05141831]\n",
      " [0.92478522 1.04350374]\n",
      " [0.82981041 1.0039309 ]\n",
      " [0.90104152 0.99601633]\n",
      " [0.92478522 1.04350374]\n",
      " [0.94852893 1.05141831]\n",
      " [0.88521238 1.02767461]\n",
      " [0.94852893 1.05141831]\n",
      " [0.90104152 1.01184547]\n",
      " [0.94061436 1.06724745]\n",
      " [0.90895609 1.04350374]\n",
      " [0.90104152 1.2017951 ]\n",
      " [0.90104152 1.15430769]\n",
      " [0.89312695 1.19388053]\n",
      " [0.82981041 1.08307658]\n",
      " [0.86938325 1.16222226]\n",
      " [0.86938325 1.09890572]\n",
      " [0.90895609 1.14639313]\n",
      " [0.83772498 1.03558917]\n",
      " [0.87729781 1.17013683]\n",
      " [0.86146868 1.05933288]\n",
      " [0.8060667  1.04350374]\n",
      " [0.88521238 1.11473485]\n",
      " [0.82189584 1.12264942]\n",
      " [0.87729781 1.13056399]\n",
      " [0.87729781 1.09099115]\n",
      " [0.89312695 1.1780514 ]\n",
      " [0.88521238 1.09099115]\n",
      " [0.86146868 1.10682029]\n",
      " [0.82189584 1.13847856]\n",
      " [0.84563954 1.09099115]\n",
      " [0.90104152 1.11473485]\n",
      " [0.86938325 1.13056399]\n",
      " [0.84563954 1.14639313]\n",
      " [0.86938325 1.13056399]\n",
      " [0.87729781 1.15430769]\n",
      " [0.88521238 1.17013683]\n",
      " [0.86938325 1.18596596]\n",
      " [0.88521238 1.1780514 ]\n",
      " [0.87729781 1.12264942]\n",
      " [0.85355411 1.09890572]\n",
      " [0.83772498 1.08307658]\n",
      " [0.83772498 1.08307658]\n",
      " [0.86146868 1.10682029]\n",
      " [0.86146868 1.12264942]\n",
      " [0.88521238 1.07516201]\n",
      " [0.91687065 1.12264942]\n",
      " [0.89312695 1.1780514 ]\n",
      " [0.82981041 1.14639313]\n",
      " [0.88521238 1.09099115]\n",
      " [0.84563954 1.08307658]\n",
      " [0.85355411 1.08307658]\n",
      " [0.88521238 1.13056399]\n",
      " [0.85355411 1.10682029]\n",
      " [0.82981041 1.04350374]\n",
      " [0.86146868 1.09099115]\n",
      " [0.88521238 1.09890572]\n",
      " [0.87729781 1.09890572]\n",
      " [0.87729781 1.13847856]\n",
      " [0.84563954 1.05141831]\n",
      " [0.86938325 1.09890572]\n",
      " [0.90895609 1.14639313]\n",
      " [0.86146868 1.10682029]\n",
      " [0.88521238 1.20970967]\n",
      " [0.87729781 1.14639313]\n",
      " [0.88521238 1.16222226]\n",
      " [0.88521238 1.24928251]\n",
      " [0.84563954 1.03558917]\n",
      " [0.87729781 1.2255388 ]\n",
      " [0.84563954 1.1780514 ]\n",
      " [0.93269979 1.21762424]\n",
      " [0.90104152 1.16222226]\n",
      " [0.86146868 1.15430769]\n",
      " [0.88521238 1.18596596]\n",
      " [0.84563954 1.09890572]\n",
      " [0.86938325 1.10682029]\n",
      " [0.90104152 1.15430769]\n",
      " [0.88521238 1.16222226]\n",
      " [0.94852893 1.25719708]\n",
      " [0.85355411 1.25719708]\n",
      " [0.82189584 1.12264942]\n",
      " [0.90104152 1.19388053]\n",
      " [0.86938325 1.09099115]\n",
      " [0.86938325 1.25719708]\n",
      " [0.86146868 1.14639313]\n",
      " [0.90895609 1.1780514 ]\n",
      " [0.90104152 1.21762424]\n",
      " [0.86938325 1.13847856]\n",
      " [0.88521238 1.13056399]\n",
      " [0.86938325 1.15430769]\n",
      " [0.88521238 1.21762424]\n",
      " [0.86938325 1.23345337]\n",
      " [0.94852893 1.27302621]\n",
      " [0.86938325 1.15430769]\n",
      " [0.86938325 1.14639313]\n",
      " [0.85355411 1.13056399]\n",
      " [0.88521238 1.25719708]\n",
      " [0.91687065 1.14639313]\n",
      " [0.89312695 1.15430769]\n",
      " [0.88521238 1.12264942]\n",
      " [0.89312695 1.19388053]\n",
      " [0.89312695 1.1780514 ]\n",
      " [0.89312695 1.19388053]\n",
      " [0.86146868 1.10682029]\n",
      " [0.90104152 1.18596596]\n",
      " [0.90895609 1.1780514 ]\n",
      " [0.88521238 1.1780514 ]\n",
      " [0.84563954 1.14639313]\n",
      " [0.88521238 1.16222226]\n",
      " [0.91687065 1.13847856]\n",
      " [0.88521238 1.11473485]]\n"
     ]
    }
   ],
   "source": [
    "import pandas as pd\n",
    "import numpy as np\n",
    "import matplotlib.pyplot as plt\n",
    "from sklearn.datasets import load_iris\n",
    "\n",
    "iris_data = load_iris()\n",
    "iris_df = pd.DataFrame(iris_data.data,columns=iris_data.feature_names)\n",
    "iris_df['target'] = iris_data.target\n",
    "print(iris_df.head())\n",
    "print('\\n')\n",
    "\n",
    "x = iris_df[['sepal width (cm)', 'sepal length (cm)']].values\n",
    "y = iris_df['target'].values.reshape(-1, 1)\n",
    "    \n",
    "dataset_size = np.size(x)\n",
    "\n",
    "mean_x, mean_y = np.mean(x), np.mean(y)\n",
    "\n",
    "SS_xy = np.sum(y * x) - dataset_size * mean_y * mean_x\n",
    "SS_xx = np.sum(x * x) - dataset_size * mean_x * mean_x\n",
    "\n",
    "a = SS_xy / SS_xx\n",
    "b = mean_y - a * mean_x\n",
    "\n",
    "y_pred = a * x + b\n",
    "\n",
    "# Results\n",
    "print(y_pred)"
   ],
   "metadata": {
    "collapsed": false,
    "ExecuteTime": {
     "end_time": "2025-03-19T15:42:27.848625Z",
     "start_time": "2025-03-19T15:42:26.297624Z"
    }
   },
   "execution_count": 30
  }
 ],
 "metadata": {
  "kernelspec": {
   "display_name": "Python 3",
   "language": "python",
   "name": "python3"
  },
  "language_info": {
   "codemirror_mode": {
    "name": "ipython",
    "version": 3
   },
   "file_extension": ".py",
   "mimetype": "text/x-python",
   "name": "python",
   "nbconvert_exporter": "python",
   "pygments_lexer": "ipython3",
   "version": "3.6.9"
  }
 },
 "nbformat": 4,
 "nbformat_minor": 4
}
