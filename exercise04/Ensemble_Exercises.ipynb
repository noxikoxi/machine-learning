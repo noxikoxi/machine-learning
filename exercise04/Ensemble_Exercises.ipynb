{
 "cells": [
  {
   "cell_type": "markdown",
   "metadata": {},
   "source": [
    "# Ensemble methods. Exercises\n",
    "\n",
    "\n",
    "In this section we have only two exercise:\n",
    "\n",
    "1. Find the best three classifier in the stacking method using the classifiers from scikit-learn package.\n",
    "\n",
    "2. Build arcing arc-x4 method. "
   ]
  },
  {
   "cell_type": "code",
   "execution_count": 1,
   "metadata": {
    "ExecuteTime": {
     "end_time": "2025-04-14T21:31:57.432988Z",
     "start_time": "2025-04-14T21:31:57.292393Z"
    }
   },
   "outputs": [],
   "source": [
    "%store -r data_set\n",
    "%store -r labels\n",
    "%store -r test_data_set\n",
    "%store -r test_labels\n",
    "%store -r unique_labels"
   ]
  },
  {
   "cell_type": "markdown",
   "metadata": {},
   "source": [
    "## Exercise 1: Find the best three classifier in the stacking method\n",
    "\n",
    "Please use the following classifiers:\n",
    "\n",
    "* Linear regression,\n",
    "* Nearest Neighbors,\n",
    "* Linear SVM,\n",
    "* Decision Tree,\n",
    "* Naive Bayes,\n",
    "* QDA."
   ]
  },
  {
   "cell_type": "code",
   "execution_count": 2,
   "metadata": {
    "ExecuteTime": {
     "end_time": "2025-04-14T21:31:58.931380Z",
     "start_time": "2025-04-14T21:31:57.434400Z"
    }
   },
   "outputs": [],
   "source": [
    "import numpy as np\n",
    "from sklearn.metrics import accuracy_score\n",
    "\n",
    "from sklearn.linear_model import LogisticRegression\n",
    "from sklearn.neighbors import KNeighborsClassifier\n",
    "from sklearn.svm import SVC\n",
    "from sklearn.tree import DecisionTreeClassifier\n",
    "from sklearn.naive_bayes import GaussianNB\n",
    "from sklearn.discriminant_analysis import QuadraticDiscriminantAnalysis\n",
    "from sklearn.model_selection import train_test_split"
   ]
  },
  {
   "cell_type": "code",
   "execution_count": 7,
   "metadata": {
    "ExecuteTime": {
     "end_time": "2025-04-14T21:32:03.413234Z",
     "start_time": "2025-04-14T21:32:03.410005Z"
    }
   },
   "outputs": [],
   "source": [
    "def classes_from_regression(predictions):\n",
    "    return np.digitize(predictions, bins=[0.5, 1.5])\n",
    "\n",
    "def build_classifiers():\n",
    "    regression = LogisticRegression(max_iter=1000)\n",
    "    knn = KNeighborsClassifier()\n",
    "    svm = SVC(kernel='linear')\n",
    "    tree = DecisionTreeClassifier()\n",
    "    gauss = GaussianNB()\n",
    "    qda = QuadraticDiscriminantAnalysis()\n",
    "    \n",
    "    all_classifiers = [regression, knn, svm, tree, gauss, qda]\n",
    "    \n",
    "    for _classifier in all_classifiers:\n",
    "        _classifier.fit(data_set, labels)\n",
    "    \n",
    "    return all_classifiers"
   ]
  },
  {
   "cell_type": "code",
   "execution_count": 8,
   "metadata": {
    "ExecuteTime": {
     "end_time": "2025-04-14T21:32:04.286299Z",
     "start_time": "2025-04-14T21:32:04.283062Z"
    }
   },
   "outputs": [],
   "source": [
    "def build_stacked_classifier(classifiers):\n",
    "    output = []\n",
    "    for classifier in classifiers:\n",
    "        output.append(classifier.predict(data_set))\n",
    "    output = np.array(output).reshape((130,3))\n",
    "    \n",
    "    # stacked classifier part:\n",
    "    stacked_classifier = DecisionTreeClassifier() # set here\n",
    "    stacked_classifier.fit(output.reshape((130,3)), labels.reshape((130,)))\n",
    "    test_set = []\n",
    "    for classifier in classifiers:\n",
    "        test_set.append(classifier.predict(test_data_set))\n",
    "        \n",
    "    test_set = np.array(test_set).reshape((len(test_set[0]),3))\n",
    "    predicted = stacked_classifier.predict(test_set)\n",
    "    return predicted"
   ]
  },
  {
   "cell_type": "code",
   "outputs": [
    {
     "name": "stdout",
     "output_type": "stream",
     "text": [
      "Number of possible classifiers combinations: 120\n",
      "The best accuracy: 0.85\n",
      "The best classifiers: (LogisticRegression(max_iter=1000), KNeighborsClassifier(), DecisionTreeClassifier())\n"
     ]
    }
   ],
   "source": [
    "import itertools\n",
    "classifiers = build_classifiers()\n",
    "acc = []\n",
    "combinations = itertools.combinations(classifiers, 3)\n",
    "permutations = []\n",
    "for comb in combinations:\n",
    "    permutations.extend(itertools.permutations(comb))\n",
    "print(f'Number of possible classifiers combinations: {len(permutations)}')\n",
    "\n",
    "for permutation in permutations[:10]:\n",
    "    predicted = build_stacked_classifier(permutation)\n",
    "    acc.append(accuracy_score(test_labels, predicted))\n",
    "    \n",
    "best_combination = np.argmax(acc)\n",
    "print(f'The best accuracy: {acc[best_combination]}')\n",
    "print(f\"The best classifiers: {permutations[best_combination]}\")"
   ],
   "metadata": {
    "collapsed": false,
    "ExecuteTime": {
     "end_time": "2025-04-14T21:32:07.759184Z",
     "start_time": "2025-04-14T21:32:07.520497Z"
    }
   },
   "execution_count": 11
  },
  {
   "cell_type": "markdown",
   "metadata": {},
   "source": [
    "## Exercise 2: \n",
    "\n",
    "Use the boosting method and change the code to fullfilt the following requirements:\n",
    "\n",
    "* the weights should be calculated as:\n",
    "$\\Large w_{n}^{(t+1)}=\\frac{1+ I(y_{n}\\neq h_{t}(x_{n})}{\\sum_{i=1}^{N}1+I(y_{n}\\neq h_{t}(x_{n})}$,\n",
    "* the prediction is done with a voting method."
   ]
  },
  {
   "cell_type": "code",
   "execution_count": 28,
   "metadata": {
    "ExecuteTime": {
     "end_time": "2025-04-14T21:37:15.548671Z",
     "start_time": "2025-04-14T21:37:15.544708Z"
    }
   },
   "outputs": [],
   "source": [
    "import numpy as np\n",
    "from sklearn.tree import DecisionTreeClassifier\n",
    "\n",
    "# prepare data set\n",
    "\n",
    "def generate_data(sample_number, feature_number, label_number):\n",
    "    data_set = np.random.random_sample((sample_number, feature_number))\n",
    "    labels = np.random.choice(label_number, sample_number)\n",
    "    return data_set, labels\n",
    "\n",
    "labels = 2\n",
    "dimension = 2\n",
    "test_set_size = 1000\n",
    "train_set_size = 5000\n",
    "train_set, train_labels = generate_data(train_set_size, dimension, labels)\n",
    "test_set, test_labels = generate_data(test_set_size, dimension, labels)\n",
    "\n",
    "# init weights\n",
    "number_of_iterations = 10\n",
    "weights = np.ones((test_set_size,)) / test_set_size\n",
    "\n",
    "\n",
    "def train_model(classifier, weights):\n",
    "    return classifier.fit(X=test_set, y=test_labels, sample_weight=weights)\n",
    "\n",
    "def calculate_error(model):\n",
    "    predicted = model.predict(test_set)\n",
    "    I=calculate_accuracy_vector(predicted, test_labels)\n",
    "    Z=np.sum(I)\n",
    "    return (1+Z)/1.0"
   ]
  },
  {
   "cell_type": "markdown",
   "metadata": {},
   "source": [
    "Fill the two functions below:"
   ]
  },
  {
   "cell_type": "code",
   "execution_count": 29,
   "metadata": {
    "ExecuteTime": {
     "end_time": "2025-04-14T21:37:16.897116Z",
     "start_time": "2025-04-14T21:37:16.894665Z"
    }
   },
   "outputs": [],
   "source": [
    "def set_new_weights(model):\n",
    "    predictions = model.predict(test_set)\n",
    "    I = np.array([1 if predictions[i] != test_labels[i] else 0 for i in range(len(predictions))])\n",
    "    new_weights = (1 + I) / (1 + I).sum()\n",
    "    return new_weights"
   ]
  },
  {
   "cell_type": "markdown",
   "metadata": {},
   "source": [
    "Train the classifier with the code below:"
   ]
  },
  {
   "cell_type": "code",
   "execution_count": 43,
   "metadata": {
    "ExecuteTime": {
     "end_time": "2025-04-14T21:40:25.707851Z",
     "start_time": "2025-04-14T21:40:25.691293Z"
    }
   },
   "outputs": [
    {
     "name": "stdout",
     "output_type": "stream",
     "text": [
      "[0.00068306 0.00136612 0.00068306 0.00068306 0.00068306]\n",
      "[0.00131579 0.00065789 0.00131579 0.00131579 0.00131579]\n",
      "[0.00068306 0.00136612 0.00068306 0.00068306 0.00068306]\n",
      "[0.00131579 0.00065789 0.00131579 0.00131579 0.00131579]\n",
      "[0.00068306 0.00136612 0.00068306 0.00068306 0.00068306]\n",
      "[0.00131579 0.00065789 0.00131579 0.00131579 0.00131579]\n",
      "[0.00068306 0.00136612 0.00068306 0.00068306 0.00068306]\n",
      "[0.00131579 0.00065789 0.00131579 0.00131579 0.00131579]\n",
      "[0.00068306 0.00136612 0.00068306 0.00068306 0.00068306]\n",
      "[0.00131579 0.00065789 0.00131579 0.00131579 0.00131579]\n"
     ]
    }
   ],
   "source": [
    "classifier = DecisionTreeClassifier(max_depth=1, random_state=1)\n",
    "classifier.fit(X=train_set, y=train_labels)\n",
    "alphas = []\n",
    "classifiers = []\n",
    "for iteration in range(number_of_iterations):\n",
    "    model = train_model(classifier, weights)\n",
    "    weights = set_new_weights(model)\n",
    "    classifiers.append(model)\n",
    "    classifier = DecisionTreeClassifier(max_depth=1)\n",
    "    print(weights[:5])\n",
    "\n",
    "\n",
    "validate_x, validate_label = generate_data(1, dimension, labels)"
   ]
  },
  {
   "cell_type": "markdown",
   "metadata": {},
   "source": [
    "Set the validation data set:"
   ]
  },
  {
   "cell_type": "code",
   "execution_count": 44,
   "metadata": {
    "ExecuteTime": {
     "end_time": "2025-04-14T21:40:32.639609Z",
     "start_time": "2025-04-14T21:40:32.636723Z"
    }
   },
   "outputs": [
    {
     "name": "stdout",
     "output_type": "stream",
     "text": [
      "[[0.21992157 0.47588905]\n",
      " [0.10281373 0.74239744]\n",
      " [0.28797198 0.69950756]\n",
      " [0.34147098 0.6150149 ]\n",
      " [0.91923419 0.68838876]\n",
      " [0.68165879 0.33532587]\n",
      " [0.11488571 0.28540851]\n",
      " [0.22572872 0.71318189]\n",
      " [0.97552082 0.80124945]\n",
      " [0.52903212 0.5957221 ]] [1 0 0 1 1 0 0 0 0 1]\n"
     ]
    }
   ],
   "source": [
    "validate_x, validate_label = generate_data(100, dimension, labels)\n",
    "print(validate_x[:10], validate_label[:10])"
   ]
  },
  {
   "cell_type": "markdown",
   "metadata": {},
   "source": [
    "Fill the prediction code:"
   ]
  },
  {
   "cell_type": "code",
   "execution_count": 55,
   "metadata": {
    "ExecuteTime": {
     "end_time": "2025-04-14T21:42:59.834129Z",
     "start_time": "2025-04-14T21:42:59.830861Z"
    }
   },
   "outputs": [],
   "source": [
    "from collections import Counter\n",
    "def get_prediction(x, print_votes=False):\n",
    "    # fill the code here (5-6 lines)\n",
    "    predictions = np.array([classifier.predict(x) for classifier in classifiers])\n",
    "    final_predictions = []\n",
    "    for i in range(len(x)):\n",
    "        votes  = predictions[:, i]\n",
    "        vote_counts = Counter(votes)\n",
    "        if print_votes:\n",
    "            print(vote_counts)\n",
    "        final_predictions.append(vote_counts.most_common(1)[0][0])\n",
    "    return final_predictions"
   ]
  },
  {
   "cell_type": "markdown",
   "metadata": {},
   "source": [
    "Test it:"
   ]
  },
  {
   "cell_type": "code",
   "execution_count": 56,
   "metadata": {
    "ExecuteTime": {
     "end_time": "2025-04-14T21:43:01.269069Z",
     "start_time": "2025-04-14T21:43:01.264003Z"
    }
   },
   "outputs": [
    {
     "name": "stdout",
     "output_type": "stream",
     "text": [
      "Counter({np.int64(1): 5, np.int64(0): 5})\n",
      "Counter({np.int64(0): 5, np.int64(1): 5})\n",
      "Counter({np.int64(0): 5, np.int64(1): 5})\n",
      "Counter({np.int64(1): 5, np.int64(0): 5})\n",
      "Counter({np.int64(1): 10})\n",
      "Counter({np.int64(1): 5, np.int64(0): 5})\n",
      "Counter({np.int64(1): 5, np.int64(0): 5})\n",
      "Counter({np.int64(0): 5, np.int64(1): 5})\n",
      "Counter({np.int64(0): 5, np.int64(1): 5})\n",
      "Counter({np.int64(1): 5, np.int64(0): 5})\n",
      "Counter({np.int64(1): 5, np.int64(0): 5})\n",
      "Counter({np.int64(1): 5, np.int64(0): 5})\n",
      "Counter({np.int64(1): 10})\n",
      "Counter({np.int64(1): 5, np.int64(0): 5})\n",
      "Counter({np.int64(0): 5, np.int64(1): 5})\n",
      "Counter({np.int64(0): 5, np.int64(1): 5})\n",
      "Counter({np.int64(1): 5, np.int64(0): 5})\n",
      "Counter({np.int64(1): 5, np.int64(0): 5})\n",
      "Counter({np.int64(1): 5, np.int64(0): 5})\n",
      "Counter({np.int64(0): 5, np.int64(1): 5})\n",
      "Counter({np.int64(1): 5, np.int64(0): 5})\n",
      "Counter({np.int64(1): 5, np.int64(0): 5})\n",
      "Counter({np.int64(0): 5, np.int64(1): 5})\n",
      "Counter({np.int64(1): 5, np.int64(0): 5})\n",
      "Counter({np.int64(1): 5, np.int64(0): 5})\n",
      "Counter({np.int64(0): 5, np.int64(1): 5})\n",
      "Counter({np.int64(1): 5, np.int64(0): 5})\n",
      "Counter({np.int64(0): 5, np.int64(1): 5})\n",
      "Counter({np.int64(0): 5, np.int64(1): 5})\n",
      "Counter({np.int64(0): 5, np.int64(1): 5})\n",
      "Counter({np.int64(1): 5, np.int64(0): 5})\n",
      "Counter({np.int64(0): 5, np.int64(1): 5})\n",
      "Counter({np.int64(1): 5, np.int64(0): 5})\n",
      "Counter({np.int64(1): 5, np.int64(0): 5})\n",
      "Counter({np.int64(1): 5, np.int64(0): 5})\n",
      "Counter({np.int64(0): 5, np.int64(1): 5})\n",
      "Counter({np.int64(1): 5, np.int64(0): 5})\n",
      "Counter({np.int64(1): 5, np.int64(0): 5})\n",
      "Counter({np.int64(0): 5, np.int64(1): 5})\n",
      "Counter({np.int64(1): 5, np.int64(0): 5})\n",
      "Counter({np.int64(1): 5, np.int64(0): 5})\n",
      "Counter({np.int64(0): 5, np.int64(1): 5})\n",
      "Counter({np.int64(1): 5, np.int64(0): 5})\n",
      "Counter({np.int64(1): 5, np.int64(0): 5})\n",
      "Counter({np.int64(1): 5, np.int64(0): 5})\n",
      "Counter({np.int64(1): 5, np.int64(0): 5})\n",
      "Counter({np.int64(1): 5, np.int64(0): 5})\n",
      "Counter({np.int64(1): 5, np.int64(0): 5})\n",
      "Counter({np.int64(0): 5, np.int64(1): 5})\n",
      "Counter({np.int64(1): 5, np.int64(0): 5})\n",
      "Counter({np.int64(0): 5, np.int64(1): 5})\n",
      "Counter({np.int64(0): 5, np.int64(1): 5})\n",
      "Counter({np.int64(1): 5, np.int64(0): 5})\n",
      "Counter({np.int64(0): 5, np.int64(1): 5})\n",
      "Counter({np.int64(0): 5, np.int64(1): 5})\n",
      "Counter({np.int64(1): 5, np.int64(0): 5})\n",
      "Counter({np.int64(1): 5, np.int64(0): 5})\n",
      "Counter({np.int64(1): 5, np.int64(0): 5})\n",
      "Counter({np.int64(1): 5, np.int64(0): 5})\n",
      "Counter({np.int64(1): 5, np.int64(0): 5})\n",
      "Counter({np.int64(1): 5, np.int64(0): 5})\n",
      "Counter({np.int64(1): 5, np.int64(0): 5})\n",
      "Counter({np.int64(0): 5, np.int64(1): 5})\n",
      "Counter({np.int64(1): 5, np.int64(0): 5})\n",
      "Counter({np.int64(1): 5, np.int64(0): 5})\n",
      "Counter({np.int64(0): 5, np.int64(1): 5})\n",
      "Counter({np.int64(1): 5, np.int64(0): 5})\n",
      "Counter({np.int64(0): 5, np.int64(1): 5})\n",
      "Counter({np.int64(0): 5, np.int64(1): 5})\n",
      "Counter({np.int64(0): 5, np.int64(1): 5})\n",
      "Counter({np.int64(1): 5, np.int64(0): 5})\n",
      "Counter({np.int64(1): 5, np.int64(0): 5})\n",
      "Counter({np.int64(1): 5, np.int64(0): 5})\n",
      "Counter({np.int64(0): 5, np.int64(1): 5})\n",
      "Counter({np.int64(0): 5, np.int64(1): 5})\n",
      "Counter({np.int64(1): 5, np.int64(0): 5})\n",
      "Counter({np.int64(1): 5, np.int64(0): 5})\n",
      "Counter({np.int64(1): 5, np.int64(0): 5})\n",
      "Counter({np.int64(1): 5, np.int64(0): 5})\n",
      "Counter({np.int64(1): 5, np.int64(0): 5})\n",
      "Counter({np.int64(1): 5, np.int64(0): 5})\n",
      "Counter({np.int64(1): 5, np.int64(0): 5})\n",
      "Counter({np.int64(1): 5, np.int64(0): 5})\n",
      "Counter({np.int64(0): 5, np.int64(1): 5})\n",
      "Counter({np.int64(0): 5, np.int64(1): 5})\n",
      "Counter({np.int64(1): 5, np.int64(0): 5})\n",
      "Counter({np.int64(1): 5, np.int64(0): 5})\n",
      "Counter({np.int64(0): 5, np.int64(1): 5})\n",
      "Counter({np.int64(0): 5, np.int64(1): 5})\n",
      "Counter({np.int64(0): 5, np.int64(1): 5})\n",
      "Counter({np.int64(1): 5, np.int64(0): 5})\n",
      "Counter({np.int64(1): 5, np.int64(0): 5})\n",
      "Counter({np.int64(0): 5, np.int64(1): 5})\n",
      "Counter({np.int64(1): 5, np.int64(0): 5})\n",
      "Counter({np.int64(1): 5, np.int64(0): 5})\n",
      "Counter({np.int64(0): 5, np.int64(1): 5})\n",
      "Counter({np.int64(1): 5, np.int64(0): 5})\n",
      "Counter({np.int64(1): 5, np.int64(0): 5})\n",
      "Counter({np.int64(1): 5, np.int64(0): 5})\n",
      "Counter({np.int64(1): 5, np.int64(0): 5})\n",
      "[np.int64(1), np.int64(0), np.int64(0), np.int64(1), np.int64(1), np.int64(1), np.int64(1), np.int64(0), np.int64(0), np.int64(1), np.int64(1), np.int64(1), np.int64(1), np.int64(1), np.int64(0), np.int64(0), np.int64(1), np.int64(1), np.int64(1), np.int64(0), np.int64(1), np.int64(1), np.int64(0), np.int64(1), np.int64(1), np.int64(0), np.int64(1), np.int64(0), np.int64(0), np.int64(0), np.int64(1), np.int64(0), np.int64(1), np.int64(1), np.int64(1), np.int64(0), np.int64(1), np.int64(1), np.int64(0), np.int64(1), np.int64(1), np.int64(0), np.int64(1), np.int64(1), np.int64(1), np.int64(1), np.int64(1), np.int64(1), np.int64(0), np.int64(1), np.int64(0), np.int64(0), np.int64(1), np.int64(0), np.int64(0), np.int64(1), np.int64(1), np.int64(1), np.int64(1), np.int64(1), np.int64(1), np.int64(1), np.int64(0), np.int64(1), np.int64(1), np.int64(0), np.int64(1), np.int64(0), np.int64(0), np.int64(0), np.int64(1), np.int64(1), np.int64(1), np.int64(0), np.int64(0), np.int64(1), np.int64(1), np.int64(1), np.int64(1), np.int64(1), np.int64(1), np.int64(1), np.int64(1), np.int64(0), np.int64(0), np.int64(1), np.int64(1), np.int64(0), np.int64(0), np.int64(0), np.int64(1), np.int64(1), np.int64(0), np.int64(1), np.int64(1), np.int64(0), np.int64(1), np.int64(1), np.int64(1), np.int64(1)]\n"
     ]
    }
   ],
   "source": [
    "predictions = get_prediction(validate_x, True)\n",
    "print(predictions)"
   ]
  },
  {
   "cell_type": "code",
   "outputs": [
    {
     "name": "stdout",
     "output_type": "stream",
     "text": [
      "0.51\n"
     ]
    }
   ],
   "source": [
    "print(accuracy_score(validate_label, predictions))"
   ],
   "metadata": {
    "collapsed": false,
    "ExecuteTime": {
     "end_time": "2025-04-14T21:43:02.781284Z",
     "start_time": "2025-04-14T21:43:02.778149Z"
    }
   },
   "execution_count": 57
  },
  {
   "cell_type": "code",
   "outputs": [
    {
     "name": "stdout",
     "output_type": "stream",
     "text": [
      "0.536\n"
     ]
    }
   ],
   "source": [
    "print(accuracy_score(test_labels, get_prediction(test_set)))"
   ],
   "metadata": {
    "collapsed": false,
    "ExecuteTime": {
     "end_time": "2025-04-14T21:43:03.957877Z",
     "start_time": "2025-04-14T21:43:03.949889Z"
    }
   },
   "execution_count": 58
  },
  {
   "cell_type": "code",
   "outputs": [
    {
     "name": "stdout",
     "output_type": "stream",
     "text": [
      "0.488\n"
     ]
    }
   ],
   "source": [
    "print(sum(test_labels==1) / len(test_labels))"
   ],
   "metadata": {
    "collapsed": false,
    "ExecuteTime": {
     "end_time": "2025-04-14T21:43:05.059506Z",
     "start_time": "2025-04-14T21:43:05.056970Z"
    }
   },
   "execution_count": 59
  }
 ],
 "metadata": {
  "kernelspec": {
   "display_name": "Python 3",
   "language": "python",
   "name": "python3"
  },
  "language_info": {
   "codemirror_mode": {
    "name": "ipython",
    "version": 3
   },
   "file_extension": ".py",
   "mimetype": "text/x-python",
   "name": "python",
   "nbconvert_exporter": "python",
   "pygments_lexer": "ipython3",
   "version": "3.6.9"
  }
 },
 "nbformat": 4,
 "nbformat_minor": 4
}
