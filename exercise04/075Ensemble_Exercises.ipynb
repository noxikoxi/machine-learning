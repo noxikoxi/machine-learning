{
 "cells": [
  {
   "cell_type": "markdown",
   "metadata": {},
   "source": [
    "# Ensemble methods. Exercises\n",
    "\n",
    "\n",
    "In this section we have only two exercise:\n",
    "\n",
    "1. Find the best three classifier in the stacking method using the classifiers from scikit-learn package.\n",
    "\n",
    "2. Build arcing arc-x4 method. "
   ]
  },
  {
   "cell_type": "code",
   "execution_count": 74,
   "metadata": {
    "ExecuteTime": {
     "end_time": "2025-04-09T15:05:07.445528Z",
     "start_time": "2025-04-09T15:05:07.436021Z"
    }
   },
   "outputs": [],
   "source": [
    "%store -r data_set\n",
    "%store -r labels\n",
    "%store -r test_data_set\n",
    "%store -r test_labels\n",
    "%store -r unique_labels"
   ]
  },
  {
   "cell_type": "markdown",
   "metadata": {},
   "source": [
    "## Exercise 1: Find the best three classifier in the stacking method\n",
    "\n",
    "Please use the following classifiers:\n",
    "\n",
    "* Linear regression,\n",
    "* Nearest Neighbors,\n",
    "* Linear SVM,\n",
    "* Decision Tree,\n",
    "* Naive Bayes,\n",
    "* QDA."
   ]
  },
  {
   "cell_type": "code",
   "execution_count": 135,
   "metadata": {
    "ExecuteTime": {
     "end_time": "2025-04-09T15:25:38.282503Z",
     "start_time": "2025-04-09T15:25:38.274542Z"
    }
   },
   "outputs": [],
   "source": [
    "import numpy as np\n",
    "from sklearn.metrics import accuracy_score\n",
    "\n",
    "from sklearn.linear_model import LogisticRegression\n",
    "from sklearn.neighbors import KNeighborsClassifier\n",
    "from sklearn.svm import SVC\n",
    "from sklearn.tree import DecisionTreeClassifier\n",
    "from sklearn.naive_bayes import GaussianNB\n",
    "from sklearn.discriminant_analysis import QuadraticDiscriminantAnalysis\n",
    "from sklearn.model_selection import train_test_split"
   ]
  },
  {
   "cell_type": "code",
   "execution_count": 150,
   "metadata": {
    "ExecuteTime": {
     "end_time": "2025-04-09T15:29:16.518628Z",
     "start_time": "2025-04-09T15:29:16.508846Z"
    }
   },
   "outputs": [],
   "source": [
    "def classes_from_regression(predictions):\n",
    "    return np.digitize(predictions, bins=[0.5, 1.5])\n",
    "\n",
    "def build_classifiers():\n",
    "    regression = LogisticRegression(max_iter=1000)\n",
    "    knn = KNeighborsClassifier()\n",
    "    svm = SVC(kernel='linear')\n",
    "    tree = DecisionTreeClassifier()\n",
    "    gauss = GaussianNB()\n",
    "    qda = QuadraticDiscriminantAnalysis()\n",
    "    \n",
    "    all_classifiers = [regression, knn, svm, tree, gauss, qda]\n",
    "    \n",
    "    for _classifier in all_classifiers:\n",
    "        _classifier.fit(data_set, labels)\n",
    "    \n",
    "    return all_classifiers"
   ]
  },
  {
   "cell_type": "code",
   "execution_count": 151,
   "metadata": {
    "ExecuteTime": {
     "end_time": "2025-04-09T15:29:17.474712Z",
     "start_time": "2025-04-09T15:29:17.467337Z"
    }
   },
   "outputs": [],
   "source": [
    "def build_stacked_classifier(classifiers):\n",
    "    output = []\n",
    "    for classifier in classifiers:\n",
    "        output.append(classifier.predict(data_set))\n",
    "    output = np.array(output).reshape((130,3))\n",
    "    \n",
    "    # stacked classifier part:\n",
    "    stacked_classifier = DecisionTreeClassifier() # set here\n",
    "    stacked_classifier.fit(output.reshape((130,3)), labels.reshape((130,)))\n",
    "    test_set = []\n",
    "    for classifier in classifiers:\n",
    "        test_set.append(classifier.predict(test_data_set))\n",
    "        \n",
    "    test_set = np.array(test_set).reshape((len(test_set[0]),3))\n",
    "    predicted = stacked_classifier.predict(test_set)\n",
    "    return predicted"
   ]
  },
  {
   "cell_type": "code",
   "outputs": [
    {
     "name": "stdout",
     "output_type": "stream",
     "text": [
      "Number of possible classifiers combinations: 120\n",
      "The best accuracy: 0.85\n",
      "The best classifiers: (LogisticRegression(max_iter=1000), KNeighborsClassifier(), DecisionTreeClassifier())\n"
     ]
    }
   ],
   "source": [
    "import itertools\n",
    "classifiers = build_classifiers()\n",
    "acc = []\n",
    "combinations = itertools.combinations(classifiers, 3)\n",
    "permutations = []\n",
    "for comb in combinations:\n",
    "    permutations.extend(itertools.permutations(comb))\n",
    "print(f'Number of possible classifiers combinations: {len(permutations)}')\n",
    "\n",
    "for permutation in permutations[:10]:\n",
    "    predicted = build_stacked_classifier(permutation)\n",
    "    acc.append(accuracy_score(test_labels, predicted))\n",
    "    \n",
    "best_combination = np.argmax(acc)\n",
    "print(f'The best accuracy: {acc[best_combination]}')\n",
    "print(f\"The best classifiers: {permutations[best_combination]}\")"
   ],
   "metadata": {
    "collapsed": false,
    "ExecuteTime": {
     "end_time": "2025-04-09T15:30:42.012555Z",
     "start_time": "2025-04-09T15:30:41.679631Z"
    }
   },
   "execution_count": 154
  },
  {
   "cell_type": "markdown",
   "metadata": {},
   "source": [
    "## Exercise 2: \n",
    "\n",
    "Use the boosting method and change the code to fullfilt the following requirements:\n",
    "\n",
    "* the weights should be calculated as:\n",
    "$w_{n}^{(t+1)}=\\frac{1+ I(y_{n}\\neq h_{t}(x_{n})}{\\sum_{i=1}^{N}1+I(y_{n}\\neq h_{t}(x_{n})}$,\n",
    "* the prediction is done with a voting method."
   ]
  },
  {
   "cell_type": "code",
   "execution_count": 240,
   "metadata": {
    "ExecuteTime": {
     "end_time": "2025-04-09T22:12:50.144865Z",
     "start_time": "2025-04-09T22:12:50.133344Z"
    }
   },
   "outputs": [],
   "source": [
    "import numpy as np\n",
    "from sklearn.tree import DecisionTreeClassifier\n",
    "\n",
    "# prepare data set\n",
    "\n",
    "def generate_data(sample_number, feature_number, label_number):\n",
    "    data_set = np.random.random_sample((sample_number, feature_number))\n",
    "    labels = np.random.choice(label_number, sample_number)\n",
    "    return data_set, labels\n",
    "\n",
    "labels = 2\n",
    "dimension = 2\n",
    "test_set_size = 1000\n",
    "train_set_size = 5000\n",
    "train_set, train_labels = generate_data(train_set_size, dimension, labels)\n",
    "test_set, test_labels = generate_data(test_set_size, dimension, labels)\n",
    "\n",
    "# init weights\n",
    "number_of_iterations = 10\n",
    "weights = np.ones((test_set_size,)) / test_set_size\n",
    "\n",
    "\n",
    "def train_model(classifier, weights):\n",
    "    return classifier.fit(X=test_set, y=test_labels, sample_weight=weights)\n",
    "\n",
    "def calculate_error(model):\n",
    "    predicted = model.predict(test_set)\n",
    "    I=calculate_accuracy_vector(predicted, test_labels)\n",
    "    Z=np.sum(I)\n",
    "    return (1+Z)/1.0"
   ]
  },
  {
   "cell_type": "markdown",
   "metadata": {},
   "source": [
    "Fill the two functions below:"
   ]
  },
  {
   "cell_type": "code",
   "execution_count": 229,
   "metadata": {
    "ExecuteTime": {
     "end_time": "2025-04-09T22:04:00.993417Z",
     "start_time": "2025-04-09T22:04:00.987574Z"
    }
   },
   "outputs": [],
   "source": [
    "def set_new_weights(model):\n",
    "    predictions = model.predict(test_set)\n",
    "    I = np.array([1 if predictions[i] != test_labels[i] else 0 for i in range(len(predictions))])\n",
    "    new_weights = (1 + I) / (1 + I).sum()\n",
    "    return new_weights"
   ]
  },
  {
   "cell_type": "markdown",
   "metadata": {},
   "source": [
    "Train the classifier with the code below:"
   ]
  },
  {
   "cell_type": "code",
   "execution_count": 246,
   "metadata": {
    "ExecuteTime": {
     "end_time": "2025-04-09T22:17:02.583287Z",
     "start_time": "2025-04-09T22:17:02.546591Z"
    }
   },
   "outputs": [
    {
     "name": "stdout",
     "output_type": "stream",
     "text": [
      "[0.00067613 0.00067613 0.00067613 0.00135227 0.00067613 0.00067613\n",
      " 0.00135227 0.00067613 0.00135227 0.00135227] \n",
      "\n",
      "[0.00132275 0.00132275 0.00066138 0.00066138 0.00132275 0.00132275\n",
      " 0.00066138 0.00132275 0.00066138 0.00066138] \n",
      "\n",
      "[0.00067613 0.00067613 0.00067613 0.00135227 0.00067613 0.00067613\n",
      " 0.00135227 0.00067613 0.00135227 0.00135227] \n",
      "\n",
      "[0.00132275 0.00132275 0.00066138 0.00066138 0.00132275 0.00132275\n",
      " 0.00066138 0.00132275 0.00066138 0.00066138] \n",
      "\n",
      "[0.00067613 0.00067613 0.00067613 0.00135227 0.00067613 0.00067613\n",
      " 0.00135227 0.00067613 0.00135227 0.00135227] \n",
      "\n",
      "[0.00132275 0.00132275 0.00066138 0.00066138 0.00132275 0.00132275\n",
      " 0.00066138 0.00132275 0.00066138 0.00066138] \n",
      "\n",
      "[0.00067613 0.00067613 0.00067613 0.00135227 0.00067613 0.00067613\n",
      " 0.00135227 0.00067613 0.00135227 0.00135227] \n",
      "\n",
      "[0.00132275 0.00132275 0.00066138 0.00066138 0.00132275 0.00132275\n",
      " 0.00066138 0.00132275 0.00066138 0.00066138] \n",
      "\n",
      "[0.00067613 0.00067613 0.00067613 0.00135227 0.00067613 0.00067613\n",
      " 0.00135227 0.00067613 0.00135227 0.00135227] \n",
      "\n",
      "[0.00132275 0.00132275 0.00066138 0.00066138 0.00132275 0.00132275\n",
      " 0.00066138 0.00132275 0.00066138 0.00066138] \n"
     ]
    }
   ],
   "source": [
    "classifier = DecisionTreeClassifier(max_depth=1, random_state=1)\n",
    "classifier.fit(X=train_set, y=train_labels)\n",
    "alphas = []\n",
    "classifiers = []\n",
    "for iteration in range(number_of_iterations):\n",
    "    model = train_model(classifier, weights)\n",
    "    weights = set_new_weights(model)\n",
    "    classifiers.append(model)\n",
    "    classifier = DecisionTreeClassifier(max_depth=1)\n",
    "    print(weights[:10], \"\\n\")\n",
    "\n",
    "\n",
    "validate_x, validate_label = generate_data(1, dimension, labels)"
   ]
  },
  {
   "cell_type": "code",
   "outputs": [
    {
     "name": "stdout",
     "output_type": "stream",
     "text": [
      "[DecisionTreeClassifier(max_depth=1, random_state=1), DecisionTreeClassifier(max_depth=1), DecisionTreeClassifier(max_depth=1), DecisionTreeClassifier(max_depth=1), DecisionTreeClassifier(max_depth=1), DecisionTreeClassifier(max_depth=1), DecisionTreeClassifier(max_depth=1), DecisionTreeClassifier(max_depth=1), DecisionTreeClassifier(max_depth=1), DecisionTreeClassifier(max_depth=1)]\n",
      "False\n"
     ]
    }
   ],
   "source": [
    "print(classifiers)\n",
    "print(classifiers[0] == classifiers[1])"
   ],
   "metadata": {
    "collapsed": false,
    "ExecuteTime": {
     "end_time": "2025-04-09T22:17:07.065072Z",
     "start_time": "2025-04-09T22:17:07.056426Z"
    }
   },
   "execution_count": 247
  },
  {
   "cell_type": "markdown",
   "metadata": {},
   "source": [
    "Set the validation data set:"
   ]
  },
  {
   "cell_type": "code",
   "execution_count": 224,
   "metadata": {
    "ExecuteTime": {
     "end_time": "2025-04-09T22:02:30.934202Z",
     "start_time": "2025-04-09T22:02:30.925893Z"
    }
   },
   "outputs": [
    {
     "name": "stdout",
     "output_type": "stream",
     "text": [
      "[[0.48320468 0.46403311]\n",
      " [0.82868386 0.6364117 ]\n",
      " [0.23805566 0.59796486]\n",
      " [0.45256974 0.12106635]\n",
      " [0.01533993 0.31799323]\n",
      " [0.57278834 0.45074462]\n",
      " [0.08977755 0.29569337]\n",
      " [0.27885456 0.63557724]\n",
      " [0.63928058 0.25555633]\n",
      " [0.87224998 0.81888687]\n",
      " [0.58199792 0.71965585]\n",
      " [0.79115184 0.22609615]\n",
      " [0.38571893 0.25229345]\n",
      " [0.95587698 0.21809795]\n",
      " [0.98321387 0.72063214]\n",
      " [0.71847402 0.81528615]\n",
      " [0.23984744 0.28261264]\n",
      " [0.874309   0.24762284]\n",
      " [0.84580293 0.93138012]\n",
      " [0.20390524 0.59520019]\n",
      " [0.2506776  0.76890301]\n",
      " [0.58293193 0.33757944]\n",
      " [0.3504995  0.73841293]\n",
      " [0.1244934  0.60348564]\n",
      " [0.32567993 0.28027165]\n",
      " [0.51617251 0.56275035]\n",
      " [0.21402777 0.31850351]\n",
      " [0.89857744 0.49074954]\n",
      " [0.37674889 0.43374012]\n",
      " [0.31013194 0.77228303]\n",
      " [0.87506375 0.93131107]\n",
      " [0.7667465  0.59134422]\n",
      " [0.2797702  0.39243817]\n",
      " [0.31831097 0.22859283]\n",
      " [0.30262612 0.91190095]\n",
      " [0.33537778 0.37308444]\n",
      " [0.01430595 0.5888628 ]\n",
      " [0.11741963 0.37292709]\n",
      " [0.95431559 0.95266976]\n",
      " [0.75890917 0.92041003]\n",
      " [0.48732867 0.15308493]\n",
      " [0.05597436 0.7347466 ]\n",
      " [0.30186364 0.62707023]\n",
      " [0.21917242 0.8051073 ]\n",
      " [0.94965899 0.58865243]\n",
      " [0.56639462 0.98951285]\n",
      " [0.20153086 0.33330954]\n",
      " [0.20894367 0.52057265]\n",
      " [0.46358275 0.74335183]\n",
      " [0.69215673 0.46197678]\n",
      " [0.80447848 0.99338128]\n",
      " [0.9196558  0.1335009 ]\n",
      " [0.53444573 0.83645837]\n",
      " [0.83997359 0.83525393]\n",
      " [0.67449253 0.55676787]\n",
      " [0.18331376 0.51247799]\n",
      " [0.50398542 0.15269669]\n",
      " [0.3356842  0.33373659]\n",
      " [0.69913863 0.06471762]\n",
      " [0.94016696 0.86652513]\n",
      " [0.6150059  0.45698621]\n",
      " [0.04843365 0.45634457]\n",
      " [0.06437231 0.49885059]\n",
      " [0.89895683 0.11952689]\n",
      " [0.98270986 0.85388742]\n",
      " [0.19953928 0.13208422]\n",
      " [0.18606843 0.60574226]\n",
      " [0.25230312 0.31868402]\n",
      " [0.48103729 0.45557438]\n",
      " [0.95690602 0.77961016]\n",
      " [0.78918033 0.66176656]\n",
      " [0.61707561 0.92745512]\n",
      " [0.23944862 0.69046798]\n",
      " [0.76265121 0.76696698]\n",
      " [0.79191495 0.56069783]\n",
      " [0.3781009  0.47467122]\n",
      " [0.85939158 0.71213686]\n",
      " [0.36574323 0.53969034]\n",
      " [0.90899715 0.95450478]\n",
      " [0.78026993 0.68867251]\n",
      " [0.21644878 0.6085841 ]\n",
      " [0.24478616 0.95636674]\n",
      " [0.5498175  0.17195197]\n",
      " [0.96051693 0.93109499]\n",
      " [0.87504747 0.09762168]\n",
      " [0.56948204 0.13148036]\n",
      " [0.06178931 0.11723615]\n",
      " [0.27871763 0.98160604]\n",
      " [0.82226039 0.1097194 ]\n",
      " [0.26881332 0.62626747]\n",
      " [0.23108226 0.46142784]\n",
      " [0.27227945 0.33534481]\n",
      " [0.84962855 0.12465787]\n",
      " [0.73772395 0.51109498]\n",
      " [0.95608724 0.26194715]\n",
      " [0.63976969 0.84627287]\n",
      " [0.61363105 0.09362588]\n",
      " [0.74189118 0.22021695]\n",
      " [0.62027023 0.6746976 ]\n",
      " [0.40811106 0.94967574]] [0 1 0 0 1 0 0 1 1 1 0 0 0 1 1 1 1 0 1 0 1 1 1 0 0 0 0 0 1 1 1 0 0 1 0 0 0\n",
      " 0 0 0 0 0 1 1 1 1 0 1 0 0 0 1 1 0 1 0 0 0 1 1 0 0 1 1 1 0 1 0 0 1 0 0 0 0\n",
      " 0 1 1 1 1 1 0 1 0 0 0 1 0 0 0 0 0 1 0 0 0 0 1 0 0 0]\n"
     ]
    }
   ],
   "source": [
    "validate_x, validate_label = generate_data(100, dimension, labels)\n",
    "print(validate_x, validate_label)"
   ]
  },
  {
   "cell_type": "markdown",
   "metadata": {},
   "source": [
    "Fill the prediction code:"
   ]
  },
  {
   "cell_type": "code",
   "execution_count": 248,
   "metadata": {
    "ExecuteTime": {
     "end_time": "2025-04-09T22:17:13.368596Z",
     "start_time": "2025-04-09T22:17:13.361800Z"
    }
   },
   "outputs": [],
   "source": [
    "def get_prediction(x):\n",
    "    # fill the code here (5-6 lines)\n",
    "    predictions = np.array([classifier.predict(x) for classifier in classifiers])\n",
    "    print(predictions)\n",
    "    predicted = []\n",
    "    for i in range(len(x)):\n",
    "        classified = predictions[:, i]\n",
    "        predicted.append(np.argmax(np.bincount(classified)))\n",
    "    return predicted"
   ]
  },
  {
   "cell_type": "markdown",
   "metadata": {},
   "source": [
    "Test it:"
   ]
  },
  {
   "cell_type": "code",
   "execution_count": 249,
   "metadata": {
    "ExecuteTime": {
     "end_time": "2025-04-09T22:17:14.293011Z",
     "start_time": "2025-04-09T22:17:14.283751Z"
    }
   },
   "outputs": [
    {
     "name": "stdout",
     "output_type": "stream",
     "text": [
      "[[1]\n",
      " [0]\n",
      " [1]\n",
      " [0]\n",
      " [1]\n",
      " [0]\n",
      " [1]\n",
      " [0]\n",
      " [1]\n",
      " [0]]\n",
      "[np.int64(0)]\n"
     ]
    }
   ],
   "source": [
    "predictions = get_prediction(validate_x)\n",
    "print(predictions)"
   ]
  },
  {
   "cell_type": "code",
   "outputs": [
    {
     "name": "stdout",
     "output_type": "stream",
     "text": [
      "1.0\n"
     ]
    }
   ],
   "source": [
    "print(accuracy_score(validate_label, predictions))"
   ],
   "metadata": {
    "collapsed": false,
    "ExecuteTime": {
     "end_time": "2025-04-09T22:17:16.781122Z",
     "start_time": "2025-04-09T22:17:16.774297Z"
    }
   },
   "execution_count": 250
  },
  {
   "cell_type": "code",
   "outputs": [
    {
     "name": "stdout",
     "output_type": "stream",
     "text": [
      "[[0 0 1 ... 0 1 0]\n",
      " [1 1 1 ... 1 0 1]\n",
      " [0 0 1 ... 0 1 0]\n",
      " ...\n",
      " [1 1 1 ... 1 0 1]\n",
      " [0 0 1 ... 0 1 0]\n",
      " [1 1 1 ... 1 0 1]]\n",
      "0.489\n"
     ]
    }
   ],
   "source": [
    "print(accuracy_score(test_labels, get_prediction(test_set)))"
   ],
   "metadata": {
    "collapsed": false,
    "ExecuteTime": {
     "end_time": "2025-04-09T22:17:18.012909Z",
     "start_time": "2025-04-09T22:17:17.993388Z"
    }
   },
   "execution_count": 251
  },
  {
   "cell_type": "code",
   "outputs": [
    {
     "name": "stdout",
     "output_type": "stream",
     "text": [
      "0.52\n"
     ]
    }
   ],
   "source": [
    "print(sum(test_labels==1) / len(test_labels))"
   ],
   "metadata": {
    "collapsed": false,
    "ExecuteTime": {
     "end_time": "2025-04-09T22:17:18.768351Z",
     "start_time": "2025-04-09T22:17:18.762918Z"
    }
   },
   "execution_count": 252
  },
  {
   "cell_type": "code",
   "outputs": [],
   "source": [],
   "metadata": {
    "collapsed": false
   }
  }
 ],
 "metadata": {
  "kernelspec": {
   "display_name": "Python 3",
   "language": "python",
   "name": "python3"
  },
  "language_info": {
   "codemirror_mode": {
    "name": "ipython",
    "version": 3
   },
   "file_extension": ".py",
   "mimetype": "text/x-python",
   "name": "python",
   "nbconvert_exporter": "python",
   "pygments_lexer": "ipython3",
   "version": "3.6.9"
  }
 },
 "nbformat": 4,
 "nbformat_minor": 4
}
